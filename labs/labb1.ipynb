{
 "cells": [
  {
   "cell_type": "markdown",
   "metadata": {},
   "source": [
    "# Laboration maskininlärning AI22"
   ]
  },
  {
   "cell_type": "markdown",
   "metadata": {},
   "source": [
    "## 1.0 - Uppvärmning\n",
    "recommender_test.ipynb"
   ]
  },
  {
   "cell_type": "markdown",
   "metadata": {},
   "source": [
    "## 1.1 - Movielens full - EDA"
   ]
  },
  {
   "cell_type": "code",
   "execution_count": 2,
   "metadata": {},
   "outputs": [
    {
     "name": "stderr",
     "output_type": "stream",
     "text": [
      "y:\\Skola\\OOP\\Skolarbete\\AI-Erik-Johansson-OPA23\\venv\\Lib\\site-packages\\fuzzywuzzy\\fuzz.py:11: UserWarning: Using slow pure-python SequenceMatcher. Install python-Levenshtein to remove this warning\n",
      "  warnings.warn('Using slow pure-python SequenceMatcher. Install python-Levenshtein to remove this warning')\n"
     ]
    }
   ],
   "source": [
    "import pandas as pd\n",
    "from scipy.sparse import csr_matrix\n",
    "from sklearn.neighbors import NearestNeighbors\n",
    "from fuzzywuzzy import process"
   ]
  },
  {
   "cell_type": "code",
   "execution_count": 3,
   "metadata": {},
   "outputs": [],
   "source": [
    "# load in datasets\n",
    "movies='data/large/movies.csv'\n",
    "ratings='data/large/ratings.csv'\n",
    "\n",
    "df_movies=pd.read_csv(movies, usecols=['movieId', 'title'], dtype={'movieId' : 'int32', 'title' : 'str'})\n",
    "df_ratings=pd.read_csv(ratings, usecols=['userId', 'movieId', 'rating'], dtype={'userId':'int32', 'movieId':'int32', 'rating':'float32'})"
   ]
  },
  {
   "cell_type": "markdown",
   "metadata": {},
   "source": [
    "### a)"
   ]
  },
  {
   "cell_type": "code",
   "execution_count": 4,
   "metadata": {},
   "outputs": [
    {
     "data": {
      "text/html": [
       "<div>\n",
       "<style scoped>\n",
       "    .dataframe tbody tr th:only-of-type {\n",
       "        vertical-align: middle;\n",
       "    }\n",
       "\n",
       "    .dataframe tbody tr th {\n",
       "        vertical-align: top;\n",
       "    }\n",
       "\n",
       "    .dataframe thead th {\n",
       "        text-align: right;\n",
       "    }\n",
       "</style>\n",
       "<table border=\"1\" class=\"dataframe\">\n",
       "  <thead>\n",
       "    <tr style=\"text-align: right;\">\n",
       "      <th></th>\n",
       "      <th>movieId</th>\n",
       "      <th>title</th>\n",
       "    </tr>\n",
       "  </thead>\n",
       "  <tbody>\n",
       "    <tr>\n",
       "      <th>0</th>\n",
       "      <td>1</td>\n",
       "      <td>Toy Story (1995)</td>\n",
       "    </tr>\n",
       "    <tr>\n",
       "      <th>1</th>\n",
       "      <td>2</td>\n",
       "      <td>Jumanji (1995)</td>\n",
       "    </tr>\n",
       "    <tr>\n",
       "      <th>2</th>\n",
       "      <td>3</td>\n",
       "      <td>Grumpier Old Men (1995)</td>\n",
       "    </tr>\n",
       "    <tr>\n",
       "      <th>3</th>\n",
       "      <td>4</td>\n",
       "      <td>Waiting to Exhale (1995)</td>\n",
       "    </tr>\n",
       "    <tr>\n",
       "      <th>4</th>\n",
       "      <td>5</td>\n",
       "      <td>Father of the Bride Part II (1995)</td>\n",
       "    </tr>\n",
       "  </tbody>\n",
       "</table>\n",
       "</div>"
      ],
      "text/plain": [
       "   movieId                               title\n",
       "0        1                    Toy Story (1995)\n",
       "1        2                      Jumanji (1995)\n",
       "2        3             Grumpier Old Men (1995)\n",
       "3        4            Waiting to Exhale (1995)\n",
       "4        5  Father of the Bride Part II (1995)"
      ]
     },
     "execution_count": 4,
     "metadata": {},
     "output_type": "execute_result"
    }
   ],
   "source": [
    "df_movies.head()"
   ]
  },
  {
   "cell_type": "code",
   "execution_count": 5,
   "metadata": {},
   "outputs": [
    {
     "name": "stdout",
     "output_type": "stream",
     "text": [
      "<class 'pandas.core.frame.DataFrame'>\n",
      "RangeIndex: 86537 entries, 0 to 86536\n",
      "Data columns (total 2 columns):\n",
      " #   Column   Non-Null Count  Dtype \n",
      "---  ------   --------------  ----- \n",
      " 0   movieId  86537 non-null  int32 \n",
      " 1   title    86537 non-null  object\n",
      "dtypes: int32(1), object(1)\n",
      "memory usage: 1014.2+ KB\n"
     ]
    }
   ],
   "source": [
    "df_movies.info()"
   ]
  },
  {
   "cell_type": "code",
   "execution_count": 6,
   "metadata": {},
   "outputs": [
    {
     "data": {
      "text/html": [
       "<div>\n",
       "<style scoped>\n",
       "    .dataframe tbody tr th:only-of-type {\n",
       "        vertical-align: middle;\n",
       "    }\n",
       "\n",
       "    .dataframe tbody tr th {\n",
       "        vertical-align: top;\n",
       "    }\n",
       "\n",
       "    .dataframe thead th {\n",
       "        text-align: right;\n",
       "    }\n",
       "</style>\n",
       "<table border=\"1\" class=\"dataframe\">\n",
       "  <thead>\n",
       "    <tr style=\"text-align: right;\">\n",
       "      <th></th>\n",
       "      <th>userId</th>\n",
       "      <th>movieId</th>\n",
       "      <th>rating</th>\n",
       "    </tr>\n",
       "  </thead>\n",
       "  <tbody>\n",
       "    <tr>\n",
       "      <th>0</th>\n",
       "      <td>1</td>\n",
       "      <td>1</td>\n",
       "      <td>4.0</td>\n",
       "    </tr>\n",
       "    <tr>\n",
       "      <th>1</th>\n",
       "      <td>1</td>\n",
       "      <td>110</td>\n",
       "      <td>4.0</td>\n",
       "    </tr>\n",
       "    <tr>\n",
       "      <th>2</th>\n",
       "      <td>1</td>\n",
       "      <td>158</td>\n",
       "      <td>4.0</td>\n",
       "    </tr>\n",
       "    <tr>\n",
       "      <th>3</th>\n",
       "      <td>1</td>\n",
       "      <td>260</td>\n",
       "      <td>4.5</td>\n",
       "    </tr>\n",
       "    <tr>\n",
       "      <th>4</th>\n",
       "      <td>1</td>\n",
       "      <td>356</td>\n",
       "      <td>5.0</td>\n",
       "    </tr>\n",
       "  </tbody>\n",
       "</table>\n",
       "</div>"
      ],
      "text/plain": [
       "   userId  movieId  rating\n",
       "0       1        1     4.0\n",
       "1       1      110     4.0\n",
       "2       1      158     4.0\n",
       "3       1      260     4.5\n",
       "4       1      356     5.0"
      ]
     },
     "execution_count": 6,
     "metadata": {},
     "output_type": "execute_result"
    }
   ],
   "source": [
    "df_ratings.head()"
   ]
  },
  {
   "cell_type": "code",
   "execution_count": 8,
   "metadata": {},
   "outputs": [
    {
     "name": "stdout",
     "output_type": "stream",
     "text": [
      "<class 'pandas.core.frame.DataFrame'>\n",
      "RangeIndex: 33832162 entries, 0 to 33832161\n",
      "Data columns (total 3 columns):\n",
      " #   Column   Dtype  \n",
      "---  ------   -----  \n",
      " 0   userId   int32  \n",
      " 1   movieId  int32  \n",
      " 2   rating   float32\n",
      "dtypes: float32(1), int32(2)\n",
      "memory usage: 387.2 MB\n"
     ]
    }
   ],
   "source": [
    "df_ratings.info()"
   ]
  },
  {
   "cell_type": "code",
   "execution_count": 9,
   "metadata": {},
   "outputs": [
    {
     "data": {
      "text/plain": [
       "userId\n",
       "189614    33332\n",
       "48766      9554\n",
       "207216     9178\n",
       "175998     9016\n",
       "76618      8919\n",
       "230765     7719\n",
       "184775     7535\n",
       "236260     7488\n",
       "233891     7372\n",
       "214831     7266\n",
       "Name: count, dtype: int64"
      ]
     },
     "execution_count": 9,
     "metadata": {},
     "output_type": "execute_result"
    }
   ],
   "source": [
    "df_ratings[\"userId\"].value_counts()[:10]"
   ]
  },
  {
   "cell_type": "markdown",
   "metadata": {},
   "source": [
    "### b)"
   ]
  },
  {
   "cell_type": "code",
   "execution_count": 10,
   "metadata": {},
   "outputs": [
    {
     "data": {
      "text/plain": [
       "movieId\n",
       "318     122296\n",
       "356     113581\n",
       "296     108756\n",
       "2571    107056\n",
       "593     101802\n",
       "260      97202\n",
       "2959     86207\n",
       "527      84232\n",
       "480      83026\n",
       "1196     80200\n",
       "Name: count, dtype: int64"
      ]
     },
     "execution_count": 10,
     "metadata": {},
     "output_type": "execute_result"
    }
   ],
   "source": [
    "# sort out top 10 movieIds by which ones have the most ratings\n",
    "df_ratings[\"movieId\"].value_counts()[:10]"
   ]
  },
  {
   "cell_type": "code",
   "execution_count": 11,
   "metadata": {},
   "outputs": [
    {
     "data": {
      "text/plain": [
       "[318, 356, 296, 2571, 593, 260, 2959, 527, 480, 1196]"
      ]
     },
     "execution_count": 11,
     "metadata": {},
     "output_type": "execute_result"
    }
   ],
   "source": [
    "# make list with most rated movieIds\n",
    "most_rated = df_ratings[\"movieId\"].value_counts()[:10].index.to_list()\n",
    "most_rated"
   ]
  },
  {
   "cell_type": "code",
   "execution_count": 12,
   "metadata": {},
   "outputs": [
    {
     "name": "stdout",
     "output_type": "stream",
     "text": [
      "Top 10 movies by number of ratings:\n",
      "Shawshank Redemption, The (1994)\n",
      "Forrest Gump (1994)\n",
      "Pulp Fiction (1994)\n",
      "Matrix, The (1999)\n",
      "Silence of the Lambs, The (1991)\n",
      "Star Wars: Episode IV - A New Hope (1977)\n",
      "Fight Club (1999)\n",
      "Schindler's List (1993)\n",
      "Jurassic Park (1993)\n",
      "Star Wars: Episode V - The Empire Strikes Back (1980)\n"
     ]
    }
   ],
   "source": [
    "# Match movieId to title in movie dataframe\n",
    "print(\"Top 10 movies by number of ratings:\")\n",
    "for m in most_rated:\n",
    "    print(df_movies[df_movies[\"movieId\"] == m][\"title\"].values[0])"
   ]
  },
  {
   "cell_type": "markdown",
   "metadata": {},
   "source": [
    "### c)"
   ]
  },
  {
   "cell_type": "code",
   "execution_count": 54,
   "metadata": {},
   "outputs": [
    {
     "name": "stdout",
     "output_type": "stream",
     "text": [
      "Average rating for top 10 most rated movies:\n",
      "Shawshank Redemption, The (1994) Average rating:  4.42\n",
      "Forrest Gump (1994) Average rating:  4.07\n",
      "Pulp Fiction (1994) Average rating:  4.19\n",
      "Matrix, The (1999) Average rating:  4.16\n",
      "Silence of the Lambs, The (1991) Average rating:  4.15\n",
      "Star Wars: Episode IV - A New Hope (1977) Average rating:  4.09\n",
      "Fight Club (1999) Average rating:  4.24\n",
      "Schindler's List (1993) Average rating:  4.24\n",
      "Jurassic Park (1993) Average rating:  3.69\n",
      "Star Wars: Episode V - The Empire Strikes Back (1980) Average rating:  4.12\n"
     ]
    }
   ],
   "source": [
    "print(\"Average rating for top 10 most rated movies:\")\n",
    "for m in most_rated:\n",
    "    # calculate mean value of ratings for each top 10 rated movie\n",
    "    print(df_movies[df_movies[\"movieId\"] == m][\"title\"].values[0],\"Average rating: \", round(df_ratings[df_ratings[\"movieId\"] == m][\"rating\"].mean(), 2))"
   ]
  },
  {
   "cell_type": "markdown",
   "metadata": {},
   "source": [
    "### d)"
   ]
  },
  {
   "cell_type": "code",
   "execution_count": 65,
   "metadata": {},
   "outputs": [
    {
     "data": {
      "text/plain": [
       "[1, 0, 0, 0, 2]"
      ]
     },
     "execution_count": 65,
     "metadata": {},
     "output_type": "execute_result"
    }
   ],
   "source": [
    "# Checked which years were the earliest and latest to appear by initally using (1800, 2025) -> 1874, 2023(exclusive)\n",
    "years = range(1874, 2024)\n",
    "# Use parenthesis '()' to avoid movies with a year in the actual title\n",
    "films_per_year = [df_movies[df_movies[\"title\"].str.contains(f\"({y})\", regex=False)][\"movieId\"].count() for y in years]\n",
    "films_per_year[:5]"
   ]
  },
  {
   "cell_type": "code",
   "execution_count": 15,
   "metadata": {},
   "outputs": [
    {
     "data": {
      "text/html": [
       "<div>\n",
       "<style scoped>\n",
       "    .dataframe tbody tr th:only-of-type {\n",
       "        vertical-align: middle;\n",
       "    }\n",
       "\n",
       "    .dataframe tbody tr th {\n",
       "        vertical-align: top;\n",
       "    }\n",
       "\n",
       "    .dataframe thead th {\n",
       "        text-align: right;\n",
       "    }\n",
       "</style>\n",
       "<table border=\"1\" class=\"dataframe\">\n",
       "  <thead>\n",
       "    <tr style=\"text-align: right;\">\n",
       "      <th></th>\n",
       "      <th>movieId</th>\n",
       "      <th>title</th>\n",
       "    </tr>\n",
       "  </thead>\n",
       "  <tbody>\n",
       "    <tr>\n",
       "      <th>23423</th>\n",
       "      <td>117909</td>\n",
       "      <td>The Kiss (1900)</td>\n",
       "    </tr>\n",
       "    <tr>\n",
       "      <th>37918</th>\n",
       "      <td>152908</td>\n",
       "      <td>Panorama of Eiffel Tower (1900)</td>\n",
       "    </tr>\n",
       "    <tr>\n",
       "      <th>37919</th>\n",
       "      <td>152910</td>\n",
       "      <td>Eiffel Tower from Trocadero Palace (1900)</td>\n",
       "    </tr>\n",
       "    <tr>\n",
       "      <th>37920</th>\n",
       "      <td>152912</td>\n",
       "      <td>Palace of Electricity (1900)</td>\n",
       "    </tr>\n",
       "    <tr>\n",
       "      <th>37921</th>\n",
       "      <td>152914</td>\n",
       "      <td>Champs de Mars (1900)</td>\n",
       "    </tr>\n",
       "  </tbody>\n",
       "</table>\n",
       "</div>"
      ],
      "text/plain": [
       "       movieId                                      title\n",
       "23423   117909                            The Kiss (1900)\n",
       "37918   152908            Panorama of Eiffel Tower (1900)\n",
       "37919   152910  Eiffel Tower from Trocadero Palace (1900)\n",
       "37920   152912               Palace of Electricity (1900)\n",
       "37921   152914                      Champs de Mars (1900)"
      ]
     },
     "execution_count": 15,
     "metadata": {},
     "output_type": "execute_result"
    }
   ],
   "source": [
    "df_movies[df_movies[\"title\"].str.contains(f\"({1900})\", regex=False)][:5]"
   ]
  },
  {
   "cell_type": "code",
   "execution_count": 16,
   "metadata": {},
   "outputs": [
    {
     "data": {
      "image/png": "[encoded data removed]",
      "text/plain": [
       "<Figure size 640x480 with 1 Axes>"
      ]
     },
     "metadata": {},
     "output_type": "display_data"
    }
   ],
   "source": [
    "import seaborn as sns\n",
    "\n",
    "ax = sns.lineplot(x=years, y=films_per_year)\n",
    "ax.set(\n",
    "    ylabel=\"Number of movies\",\n",
    "    xlabel=\"Release year\",\n",
    "    title=\"Number of movies per release year in movielens database\\n(1874-2023)\",\n",
    "    ylim=(0, 3500),\n",
    ")\n",
    "ax.spines[[\"top\", \"right\"]].set_visible(False)\n",
    "ax.spines[[\"top\", \"right\"]].set_visible(False)\n",
    "ax.spines[[\"bottom\", \"left\"]].set_color(\"gray\")\n",
    "ax.tick_params(colors=\"gray\")"
   ]
  },
  {
   "cell_type": "markdown",
   "metadata": {},
   "source": [
    "### e)"
   ]
  },
  {
   "cell_type": "code",
   "execution_count": 17,
   "metadata": {},
   "outputs": [
    {
     "data": {
      "text/html": [
       "<div>\n",
       "<style scoped>\n",
       "    .dataframe tbody tr th:only-of-type {\n",
       "        vertical-align: middle;\n",
       "    }\n",
       "\n",
       "    .dataframe tbody tr th {\n",
       "        vertical-align: top;\n",
       "    }\n",
       "\n",
       "    .dataframe thead th {\n",
       "        text-align: right;\n",
       "    }\n",
       "</style>\n",
       "<table border=\"1\" class=\"dataframe\">\n",
       "  <thead>\n",
       "    <tr style=\"text-align: right;\">\n",
       "      <th></th>\n",
       "      <th>movieId</th>\n",
       "      <th>ratings</th>\n",
       "    </tr>\n",
       "  </thead>\n",
       "  <tbody>\n",
       "    <tr>\n",
       "      <th>0</th>\n",
       "      <td>318</td>\n",
       "      <td>122296</td>\n",
       "    </tr>\n",
       "    <tr>\n",
       "      <th>1</th>\n",
       "      <td>356</td>\n",
       "      <td>113581</td>\n",
       "    </tr>\n",
       "    <tr>\n",
       "      <th>2</th>\n",
       "      <td>296</td>\n",
       "      <td>108756</td>\n",
       "    </tr>\n",
       "    <tr>\n",
       "      <th>3</th>\n",
       "      <td>2571</td>\n",
       "      <td>107056</td>\n",
       "    </tr>\n",
       "    <tr>\n",
       "      <th>4</th>\n",
       "      <td>593</td>\n",
       "      <td>101802</td>\n",
       "    </tr>\n",
       "  </tbody>\n",
       "</table>\n",
       "</div>"
      ],
      "text/plain": [
       "   movieId  ratings\n",
       "0      318   122296\n",
       "1      356   113581\n",
       "2      296   108756\n",
       "3     2571   107056\n",
       "4      593   101802"
      ]
     },
     "execution_count": 17,
     "metadata": {},
     "output_type": "execute_result"
    }
   ],
   "source": [
    "# make lists with movieIds and number of ratings\n",
    "rated_movieIds = df_ratings[\"movieId\"].value_counts().index.to_numpy()\n",
    "number_ratings = df_ratings[\"movieId\"].value_counts().to_numpy()\n",
    "\n",
    "# make dataframe out of lists\n",
    "df_ratings_per_movie = pd.DataFrame({\"movieId\": rated_movieIds, \"ratings\": number_ratings})\n",
    "df_ratings_per_movie.head()"
   ]
  },
  {
   "cell_type": "code",
   "execution_count": 18,
   "metadata": {},
   "outputs": [
    {
     "data": {
      "text/html": [
       "<div>\n",
       "<style scoped>\n",
       "    .dataframe tbody tr th:only-of-type {\n",
       "        vertical-align: middle;\n",
       "    }\n",
       "\n",
       "    .dataframe tbody tr th {\n",
       "        vertical-align: top;\n",
       "    }\n",
       "\n",
       "    .dataframe thead th {\n",
       "        text-align: right;\n",
       "    }\n",
       "</style>\n",
       "<table border=\"1\" class=\"dataframe\">\n",
       "  <thead>\n",
       "    <tr style=\"text-align: right;\">\n",
       "      <th></th>\n",
       "      <th>movieId</th>\n",
       "      <th>ratings</th>\n",
       "    </tr>\n",
       "  </thead>\n",
       "  <tbody>\n",
       "    <tr>\n",
       "      <th>0</th>\n",
       "      <td>1</td>\n",
       "      <td>76813</td>\n",
       "    </tr>\n",
       "    <tr>\n",
       "      <th>1</th>\n",
       "      <td>2</td>\n",
       "      <td>30209</td>\n",
       "    </tr>\n",
       "    <tr>\n",
       "      <th>2</th>\n",
       "      <td>3</td>\n",
       "      <td>15820</td>\n",
       "    </tr>\n",
       "    <tr>\n",
       "      <th>3</th>\n",
       "      <td>4</td>\n",
       "      <td>3028</td>\n",
       "    </tr>\n",
       "    <tr>\n",
       "      <th>4</th>\n",
       "      <td>5</td>\n",
       "      <td>15801</td>\n",
       "    </tr>\n",
       "    <tr>\n",
       "      <th>5</th>\n",
       "      <td>6</td>\n",
       "      <td>31850</td>\n",
       "    </tr>\n",
       "    <tr>\n",
       "      <th>6</th>\n",
       "      <td>7</td>\n",
       "      <td>15596</td>\n",
       "    </tr>\n",
       "    <tr>\n",
       "      <th>7</th>\n",
       "      <td>8</td>\n",
       "      <td>1584</td>\n",
       "    </tr>\n",
       "    <tr>\n",
       "      <th>8</th>\n",
       "      <td>9</td>\n",
       "      <td>4563</td>\n",
       "    </tr>\n",
       "    <tr>\n",
       "      <th>9</th>\n",
       "      <td>10</td>\n",
       "      <td>34942</td>\n",
       "    </tr>\n",
       "  </tbody>\n",
       "</table>\n",
       "</div>"
      ],
      "text/plain": [
       "   movieId  ratings\n",
       "0        1    76813\n",
       "1        2    30209\n",
       "2        3    15820\n",
       "3        4     3028\n",
       "4        5    15801\n",
       "5        6    31850\n",
       "6        7    15596\n",
       "7        8     1584\n",
       "8        9     4563\n",
       "9       10    34942"
      ]
     },
     "execution_count": 18,
     "metadata": {},
     "output_type": "execute_result"
    }
   ],
   "source": [
    "# sort dataframe by movieId\n",
    "df_ratings_per_movie = df_ratings_per_movie.sort_values(\"movieId\", ignore_index=True)\n",
    "df_ratings_per_movie.head(10)"
   ]
  },
  {
   "cell_type": "code",
   "execution_count": 66,
   "metadata": {},
   "outputs": [
    {
     "data": {
      "image/png": "[encoded data removed]",
      "text/plain": [
       "<Figure size 640x480 with 1 Axes>"
      ]
     },
     "metadata": {},
     "output_type": "display_data"
    }
   ],
   "source": [
    "# barplot did not work, maybe too many values?\n",
    "ax = sns.lineplot(df_ratings_per_movie, x=\"movieId\", y=\"ratings\")\n",
    "ax.set(\n",
    "    title=\"Number of ratings per movieId for movies in movielens database\",\n",
    "    ylim=(0, 130000),\n",
    ")\n",
    "ax.spines[[\"top\", \"right\"]].set_visible(False)\n",
    "ax.spines[[\"top\", \"right\"]].set_visible(False)\n",
    "ax.spines[[\"bottom\", \"left\"]].set_color(\"gray\")\n",
    "ax.tick_params(colors=\"gray\")"
   ]
  },
  {
   "cell_type": "markdown",
   "metadata": {},
   "source": [
    "### f)"
   ]
  },
  {
   "cell_type": "code",
   "execution_count": 20,
   "metadata": {},
   "outputs": [
    {
     "data": {
      "text/plain": [
       "(['Shawshank Redemption, The (1994)',\n",
       "  'Forrest Gump (1994)',\n",
       "  'Pulp Fiction (1994)',\n",
       "  'Matrix, The (1999)',\n",
       "  'Silence of the Lambs, The (1991)',\n",
       "  'Star Wars: Episode IV - A New Hope (1977)',\n",
       "  'Fight Club (1999)',\n",
       "  \"Schindler's List (1993)\",\n",
       "  'Jurassic Park (1993)',\n",
       "  'Star Wars: Episode V - The Empire Strikes Back (1980)'],\n",
       " [4.42, 4.07, 4.19, 4.16, 4.15, 4.09, 4.24, 4.24, 3.69, 4.12])"
      ]
     },
     "execution_count": 20,
     "metadata": {},
     "output_type": "execute_result"
    }
   ],
   "source": [
    "# lists with titles and average ratings for top 10 most rated movies\n",
    "title = [df_movies[df_movies[\"movieId\"] == m][\"title\"].values[0] for m in most_rated]\n",
    "avg_rating = [round(df_ratings[df_ratings[\"movieId\"] == m][\"rating\"].mean(), 2) for m in most_rated]\n",
    "\n",
    "title, avg_rating"
   ]
  },
  {
   "cell_type": "code",
   "execution_count": 21,
   "metadata": {},
   "outputs": [
    {
     "name": "stderr",
     "output_type": "stream",
     "text": [
      "C:\\Users\\Erik\\AppData\\Local\\Temp\\ipykernel_18932\\915615419.py:11: UserWarning: set_ticklabels() should only be used with a fixed number of ticks, i.e. after set_ticks() or using a FixedLocator.\n",
      "  ax.set_xticklabels(title, rotation=90)\n"
     ]
    },
    {
     "data": {
      "text/plain": [
       "[Text(0, 0, 'Shawshank Redemption, The (1994)'),\n",
       " Text(1, 0, 'Forrest Gump (1994)'),\n",
       " Text(2, 0, 'Pulp Fiction (1994)'),\n",
       " Text(3, 0, 'Matrix, The (1999)'),\n",
       " Text(4, 0, 'Silence of the Lambs, The (1991)'),\n",
       " Text(5, 0, 'Star Wars: Episode IV - A New Hope (1977)'),\n",
       " Text(6, 0, 'Fight Club (1999)'),\n",
       " Text(7, 0, \"Schindler's List (1993)\"),\n",
       " Text(8, 0, 'Jurassic Park (1993)'),\n",
       " Text(9, 0, 'Star Wars: Episode V - The Empire Strikes Back (1980)')]"
      ]
     },
     "execution_count": 21,
     "metadata": {},
     "output_type": "execute_result"
    },
    {
     "data": {
      "image/png": "[encoded data removed]",
      "text/plain": [
       "<Figure size 640x480 with 1 Axes>"
      ]
     },
     "metadata": {},
     "output_type": "display_data"
    }
   ],
   "source": [
    "ax = sns.barplot(x=title, y=avg_rating)\n",
    "ax.set(\n",
    "    ylabel=\"average rating\",\n",
    "    xlabel=\"Movie title\",\n",
    "    title=\"Average rating for the 10 most rated movies\",\n",
    "    ylim=(0, 5)\n",
    ")\n",
    "ax.spines[[\"top\", \"right\"]].set_visible(False)\n",
    "ax.spines[[\"bottom\", \"left\"]].set_color(\"gray\")\n",
    "ax.tick_params(colors=\"gray\")\n",
    "ax.set_xticklabels(title, rotation=90)"
   ]
  },
  {
   "cell_type": "markdown",
   "metadata": {},
   "source": [
    "## 1.2 Skapa gles matris\n",
    "\n",
    "Jag bestämde mig för att det verkade vettigt att sortera bort filmer som hade färre ratings då dessa "
   ]
  },
  {
   "cell_type": "code",
   "execution_count": 78,
   "metadata": {},
   "outputs": [
    {
     "data": {
      "text/html": [
       "<div>\n",
       "<style scoped>\n",
       "    .dataframe tbody tr th:only-of-type {\n",
       "        vertical-align: middle;\n",
       "    }\n",
       "\n",
       "    .dataframe tbody tr th {\n",
       "        vertical-align: top;\n",
       "    }\n",
       "\n",
       "    .dataframe thead th {\n",
       "        text-align: right;\n",
       "    }\n",
       "</style>\n",
       "<table border=\"1\" class=\"dataframe\">\n",
       "  <thead>\n",
       "    <tr style=\"text-align: right;\">\n",
       "      <th></th>\n",
       "      <th>userId</th>\n",
       "      <th>movieId</th>\n",
       "      <th>rating</th>\n",
       "    </tr>\n",
       "  </thead>\n",
       "  <tbody>\n",
       "    <tr>\n",
       "      <th>0</th>\n",
       "      <td>1</td>\n",
       "      <td>1</td>\n",
       "      <td>4.0</td>\n",
       "    </tr>\n",
       "    <tr>\n",
       "      <th>1</th>\n",
       "      <td>1</td>\n",
       "      <td>110</td>\n",
       "      <td>4.0</td>\n",
       "    </tr>\n",
       "    <tr>\n",
       "      <th>2</th>\n",
       "      <td>1</td>\n",
       "      <td>158</td>\n",
       "      <td>4.0</td>\n",
       "    </tr>\n",
       "    <tr>\n",
       "      <th>3</th>\n",
       "      <td>1</td>\n",
       "      <td>260</td>\n",
       "      <td>4.5</td>\n",
       "    </tr>\n",
       "    <tr>\n",
       "      <th>4</th>\n",
       "      <td>1</td>\n",
       "      <td>356</td>\n",
       "      <td>5.0</td>\n",
       "    </tr>\n",
       "    <tr>\n",
       "      <th>...</th>\n",
       "      <td>...</td>\n",
       "      <td>...</td>\n",
       "      <td>...</td>\n",
       "    </tr>\n",
       "    <tr>\n",
       "      <th>33832157</th>\n",
       "      <td>330975</td>\n",
       "      <td>8340</td>\n",
       "      <td>2.0</td>\n",
       "    </tr>\n",
       "    <tr>\n",
       "      <th>33832158</th>\n",
       "      <td>330975</td>\n",
       "      <td>8493</td>\n",
       "      <td>2.5</td>\n",
       "    </tr>\n",
       "    <tr>\n",
       "      <th>33832159</th>\n",
       "      <td>330975</td>\n",
       "      <td>8622</td>\n",
       "      <td>4.0</td>\n",
       "    </tr>\n",
       "    <tr>\n",
       "      <th>33832160</th>\n",
       "      <td>330975</td>\n",
       "      <td>8665</td>\n",
       "      <td>3.0</td>\n",
       "    </tr>\n",
       "    <tr>\n",
       "      <th>33832161</th>\n",
       "      <td>330975</td>\n",
       "      <td>8783</td>\n",
       "      <td>2.5</td>\n",
       "    </tr>\n",
       "  </tbody>\n",
       "</table>\n",
       "<p>30350569 rows × 3 columns</p>\n",
       "</div>"
      ],
      "text/plain": [
       "          userId  movieId  rating\n",
       "0              1        1     4.0\n",
       "1              1      110     4.0\n",
       "2              1      158     4.0\n",
       "3              1      260     4.5\n",
       "4              1      356     5.0\n",
       "...          ...      ...     ...\n",
       "33832157  330975     8340     2.0\n",
       "33832158  330975     8493     2.5\n",
       "33832159  330975     8622     4.0\n",
       "33832160  330975     8665     3.0\n",
       "33832161  330975     8783     2.5\n",
       "\n",
       "[30350569 rows x 3 columns]"
      ]
     },
     "execution_count": 78,
     "metadata": {},
     "output_type": "execute_result"
    }
   ],
   "source": [
    "# suggested sorting by treshold of value counts from https://stackoverflow.com/questions/67006008/pandas-how-to-get-the-value-counts-above-a-threshold\n",
    "# a treshold of at least 2000 ratings seemed to still include a solid amount of movies\n",
    "df_ratings_adjusted = df_ratings[df_ratings.groupby(\"movieId\")[\"movieId\"].transform('size')>1000]\n",
    "df_ratings_adjusted[\"movieId\"].unique().shape\n",
    "df_ratings_adjusted"
   ]
  },
  {
   "cell_type": "code",
   "execution_count": 79,
   "metadata": {},
   "outputs": [
    {
     "data": {
      "text/html": [
       "<div>\n",
       "<style scoped>\n",
       "    .dataframe tbody tr th:only-of-type {\n",
       "        vertical-align: middle;\n",
       "    }\n",
       "\n",
       "    .dataframe tbody tr th {\n",
       "        vertical-align: top;\n",
       "    }\n",
       "\n",
       "    .dataframe thead th {\n",
       "        text-align: right;\n",
       "    }\n",
       "</style>\n",
       "<table border=\"1\" class=\"dataframe\">\n",
       "  <thead>\n",
       "    <tr style=\"text-align: right;\">\n",
       "      <th></th>\n",
       "      <th>userId</th>\n",
       "      <th>movieId</th>\n",
       "      <th>rating</th>\n",
       "    </tr>\n",
       "  </thead>\n",
       "  <tbody>\n",
       "    <tr>\n",
       "      <th>304</th>\n",
       "      <td>7</td>\n",
       "      <td>1</td>\n",
       "      <td>4.0</td>\n",
       "    </tr>\n",
       "    <tr>\n",
       "      <th>305</th>\n",
       "      <td>7</td>\n",
       "      <td>3</td>\n",
       "      <td>3.0</td>\n",
       "    </tr>\n",
       "    <tr>\n",
       "      <th>306</th>\n",
       "      <td>7</td>\n",
       "      <td>11</td>\n",
       "      <td>5.0</td>\n",
       "    </tr>\n",
       "    <tr>\n",
       "      <th>307</th>\n",
       "      <td>7</td>\n",
       "      <td>21</td>\n",
       "      <td>2.0</td>\n",
       "    </tr>\n",
       "    <tr>\n",
       "      <th>308</th>\n",
       "      <td>7</td>\n",
       "      <td>25</td>\n",
       "      <td>3.0</td>\n",
       "    </tr>\n",
       "    <tr>\n",
       "      <th>...</th>\n",
       "      <td>...</td>\n",
       "      <td>...</td>\n",
       "      <td>...</td>\n",
       "    </tr>\n",
       "    <tr>\n",
       "      <th>33832157</th>\n",
       "      <td>330975</td>\n",
       "      <td>8340</td>\n",
       "      <td>2.0</td>\n",
       "    </tr>\n",
       "    <tr>\n",
       "      <th>33832158</th>\n",
       "      <td>330975</td>\n",
       "      <td>8493</td>\n",
       "      <td>2.5</td>\n",
       "    </tr>\n",
       "    <tr>\n",
       "      <th>33832159</th>\n",
       "      <td>330975</td>\n",
       "      <td>8622</td>\n",
       "      <td>4.0</td>\n",
       "    </tr>\n",
       "    <tr>\n",
       "      <th>33832160</th>\n",
       "      <td>330975</td>\n",
       "      <td>8665</td>\n",
       "      <td>3.0</td>\n",
       "    </tr>\n",
       "    <tr>\n",
       "      <th>33832161</th>\n",
       "      <td>330975</td>\n",
       "      <td>8783</td>\n",
       "      <td>2.5</td>\n",
       "    </tr>\n",
       "  </tbody>\n",
       "</table>\n",
       "<p>23138763 rows × 3 columns</p>\n",
       "</div>"
      ],
      "text/plain": [
       "          userId  movieId  rating\n",
       "304            7        1     4.0\n",
       "305            7        3     3.0\n",
       "306            7       11     5.0\n",
       "307            7       21     2.0\n",
       "308            7       25     3.0\n",
       "...          ...      ...     ...\n",
       "33832157  330975     8340     2.0\n",
       "33832158  330975     8493     2.5\n",
       "33832159  330975     8622     4.0\n",
       "33832160  330975     8665     3.0\n",
       "33832161  330975     8783     2.5\n",
       "\n",
       "[23138763 rows x 3 columns]"
      ]
     },
     "execution_count": 79,
     "metadata": {},
     "output_type": "execute_result"
    }
   ],
   "source": [
    "df_ratings_adjusted[df_ratings_adjusted.groupby(\"userId\")[\"userId\"].transform('size')>100]"
   ]
  },
  {
   "cell_type": "code",
   "execution_count": 24,
   "metadata": {},
   "outputs": [
    {
     "data": {
      "text/plain": [
       "array([   1,  110,  158, ..., 2303, 3783, 1975])"
      ]
     },
     "execution_count": 24,
     "metadata": {},
     "output_type": "execute_result"
    }
   ],
   "source": [
    "df_ratings_adjusted[\"movieId\"].unique()"
   ]
  },
  {
   "cell_type": "code",
   "execution_count": 25,
   "metadata": {},
   "outputs": [
    {
     "data": {
      "text/plain": [
       "3201"
      ]
     },
     "execution_count": 25,
     "metadata": {},
     "output_type": "execute_result"
    }
   ],
   "source": [
    "# https://saturncloud.io/blog/how-to-select-rows-from-a-dataframe-based-on-list-values-in-a-column-in-pandas/\n",
    "\n",
    "mask = df_movies[\"movieId\"].isin(df_ratings_adjusted[\"movieId\"].unique())\n",
    "\n",
    "df_movies_adjusted = df_movies[mask].reset_index(drop=True)\n",
    "df_movies_adjusted[\"movieId\"][1335]"
   ]
  },
  {
   "cell_type": "code",
   "execution_count": 26,
   "metadata": {},
   "outputs": [
    {
     "data": {
      "text/html": [
       "<div>\n",
       "<style scoped>\n",
       "    .dataframe tbody tr th:only-of-type {\n",
       "        vertical-align: middle;\n",
       "    }\n",
       "\n",
       "    .dataframe tbody tr th {\n",
       "        vertical-align: top;\n",
       "    }\n",
       "\n",
       "    .dataframe thead th {\n",
       "        text-align: right;\n",
       "    }\n",
       "</style>\n",
       "<table border=\"1\" class=\"dataframe\">\n",
       "  <thead>\n",
       "    <tr style=\"text-align: right;\">\n",
       "      <th></th>\n",
       "      <th>movieId</th>\n",
       "      <th>title</th>\n",
       "    </tr>\n",
       "  </thead>\n",
       "  <tbody>\n",
       "    <tr>\n",
       "      <th>0</th>\n",
       "      <td>1</td>\n",
       "      <td>Toy Story (1995)</td>\n",
       "    </tr>\n",
       "    <tr>\n",
       "      <th>1</th>\n",
       "      <td>2</td>\n",
       "      <td>Jumanji (1995)</td>\n",
       "    </tr>\n",
       "    <tr>\n",
       "      <th>2</th>\n",
       "      <td>3</td>\n",
       "      <td>Grumpier Old Men (1995)</td>\n",
       "    </tr>\n",
       "    <tr>\n",
       "      <th>3</th>\n",
       "      <td>4</td>\n",
       "      <td>Waiting to Exhale (1995)</td>\n",
       "    </tr>\n",
       "    <tr>\n",
       "      <th>4</th>\n",
       "      <td>5</td>\n",
       "      <td>Father of the Bride Part II (1995)</td>\n",
       "    </tr>\n",
       "    <tr>\n",
       "      <th>...</th>\n",
       "      <td>...</td>\n",
       "      <td>...</td>\n",
       "    </tr>\n",
       "    <tr>\n",
       "      <th>2953</th>\n",
       "      <td>263007</td>\n",
       "      <td>Spider-Man: No Way Home (2021)</td>\n",
       "    </tr>\n",
       "    <tr>\n",
       "      <th>2954</th>\n",
       "      <td>263407</td>\n",
       "      <td>Don't Look Up (2021)</td>\n",
       "    </tr>\n",
       "    <tr>\n",
       "      <th>2955</th>\n",
       "      <td>268642</td>\n",
       "      <td>The Batman (2022)</td>\n",
       "    </tr>\n",
       "    <tr>\n",
       "      <th>2956</th>\n",
       "      <td>270698</td>\n",
       "      <td>Everything Everywhere All at Once (2022)</td>\n",
       "    </tr>\n",
       "    <tr>\n",
       "      <th>2957</th>\n",
       "      <td>274053</td>\n",
       "      <td>Top Gun: Maverick (2022)</td>\n",
       "    </tr>\n",
       "  </tbody>\n",
       "</table>\n",
       "<p>2958 rows × 2 columns</p>\n",
       "</div>"
      ],
      "text/plain": [
       "      movieId                                     title\n",
       "0           1                          Toy Story (1995)\n",
       "1           2                            Jumanji (1995)\n",
       "2           3                   Grumpier Old Men (1995)\n",
       "3           4                  Waiting to Exhale (1995)\n",
       "4           5        Father of the Bride Part II (1995)\n",
       "...       ...                                       ...\n",
       "2953   263007            Spider-Man: No Way Home (2021)\n",
       "2954   263407                      Don't Look Up (2021)\n",
       "2955   268642                         The Batman (2022)\n",
       "2956   270698  Everything Everywhere All at Once (2022)\n",
       "2957   274053                  Top Gun: Maverick (2022)\n",
       "\n",
       "[2958 rows x 2 columns]"
      ]
     },
     "execution_count": 26,
     "metadata": {},
     "output_type": "execute_result"
    }
   ],
   "source": [
    "df_movies_adjusted = df_movies[mask].reset_index(drop=True)\n",
    "df_movies_adjusted"
   ]
  },
  {
   "cell_type": "code",
   "execution_count": 27,
   "metadata": {},
   "outputs": [],
   "source": [
    "movies_users=df_ratings_adjusted.pivot(index='movieId', columns='userId', values='rating').fillna(0)"
   ]
  },
  {
   "cell_type": "code",
   "execution_count": 28,
   "metadata": {},
   "outputs": [
    {
     "data": {
      "text/html": [
       "<div>\n",
       "<style scoped>\n",
       "    .dataframe tbody tr th:only-of-type {\n",
       "        vertical-align: middle;\n",
       "    }\n",
       "\n",
       "    .dataframe tbody tr th {\n",
       "        vertical-align: top;\n",
       "    }\n",
       "\n",
       "    .dataframe thead th {\n",
       "        text-align: right;\n",
       "    }\n",
       "</style>\n",
       "<table border=\"1\" class=\"dataframe\">\n",
       "  <thead>\n",
       "    <tr style=\"text-align: right;\">\n",
       "      <th>userId</th>\n",
       "      <th>1</th>\n",
       "      <th>2</th>\n",
       "      <th>3</th>\n",
       "      <th>4</th>\n",
       "      <th>5</th>\n",
       "      <th>6</th>\n",
       "      <th>7</th>\n",
       "      <th>8</th>\n",
       "      <th>9</th>\n",
       "      <th>10</th>\n",
       "      <th>...</th>\n",
       "      <th>330966</th>\n",
       "      <th>330967</th>\n",
       "      <th>330968</th>\n",
       "      <th>330969</th>\n",
       "      <th>330970</th>\n",
       "      <th>330971</th>\n",
       "      <th>330972</th>\n",
       "      <th>330973</th>\n",
       "      <th>330974</th>\n",
       "      <th>330975</th>\n",
       "    </tr>\n",
       "    <tr>\n",
       "      <th>movieId</th>\n",
       "      <th></th>\n",
       "      <th></th>\n",
       "      <th></th>\n",
       "      <th></th>\n",
       "      <th></th>\n",
       "      <th></th>\n",
       "      <th></th>\n",
       "      <th></th>\n",
       "      <th></th>\n",
       "      <th></th>\n",
       "      <th></th>\n",
       "      <th></th>\n",
       "      <th></th>\n",
       "      <th></th>\n",
       "      <th></th>\n",
       "      <th></th>\n",
       "      <th></th>\n",
       "      <th></th>\n",
       "      <th></th>\n",
       "      <th></th>\n",
       "      <th></th>\n",
       "    </tr>\n",
       "  </thead>\n",
       "  <tbody>\n",
       "    <tr>\n",
       "      <th>1</th>\n",
       "      <td>4.0</td>\n",
       "      <td>5.0</td>\n",
       "      <td>0.0</td>\n",
       "      <td>0.0</td>\n",
       "      <td>0.0</td>\n",
       "      <td>0.0</td>\n",
       "      <td>4.0</td>\n",
       "      <td>0.0</td>\n",
       "      <td>0.0</td>\n",
       "      <td>3.0</td>\n",
       "      <td>...</td>\n",
       "      <td>3.0</td>\n",
       "      <td>0.0</td>\n",
       "      <td>0.0</td>\n",
       "      <td>0.0</td>\n",
       "      <td>0.0</td>\n",
       "      <td>0.0</td>\n",
       "      <td>3.0</td>\n",
       "      <td>0.0</td>\n",
       "      <td>0.0</td>\n",
       "      <td>2.5</td>\n",
       "    </tr>\n",
       "    <tr>\n",
       "      <th>2</th>\n",
       "      <td>0.0</td>\n",
       "      <td>3.0</td>\n",
       "      <td>0.0</td>\n",
       "      <td>0.0</td>\n",
       "      <td>0.0</td>\n",
       "      <td>0.0</td>\n",
       "      <td>0.0</td>\n",
       "      <td>0.0</td>\n",
       "      <td>4.0</td>\n",
       "      <td>0.0</td>\n",
       "      <td>...</td>\n",
       "      <td>0.0</td>\n",
       "      <td>0.0</td>\n",
       "      <td>0.0</td>\n",
       "      <td>0.0</td>\n",
       "      <td>0.0</td>\n",
       "      <td>0.0</td>\n",
       "      <td>0.0</td>\n",
       "      <td>0.0</td>\n",
       "      <td>3.0</td>\n",
       "      <td>2.0</td>\n",
       "    </tr>\n",
       "    <tr>\n",
       "      <th>3</th>\n",
       "      <td>0.0</td>\n",
       "      <td>0.0</td>\n",
       "      <td>0.0</td>\n",
       "      <td>0.0</td>\n",
       "      <td>0.0</td>\n",
       "      <td>0.0</td>\n",
       "      <td>3.0</td>\n",
       "      <td>0.0</td>\n",
       "      <td>5.0</td>\n",
       "      <td>0.0</td>\n",
       "      <td>...</td>\n",
       "      <td>3.0</td>\n",
       "      <td>0.0</td>\n",
       "      <td>0.0</td>\n",
       "      <td>0.0</td>\n",
       "      <td>0.0</td>\n",
       "      <td>0.0</td>\n",
       "      <td>5.0</td>\n",
       "      <td>0.0</td>\n",
       "      <td>0.0</td>\n",
       "      <td>1.0</td>\n",
       "    </tr>\n",
       "    <tr>\n",
       "      <th>4</th>\n",
       "      <td>0.0</td>\n",
       "      <td>0.0</td>\n",
       "      <td>0.0</td>\n",
       "      <td>0.0</td>\n",
       "      <td>0.0</td>\n",
       "      <td>0.0</td>\n",
       "      <td>0.0</td>\n",
       "      <td>0.0</td>\n",
       "      <td>0.0</td>\n",
       "      <td>0.0</td>\n",
       "      <td>...</td>\n",
       "      <td>0.0</td>\n",
       "      <td>0.0</td>\n",
       "      <td>0.0</td>\n",
       "      <td>0.0</td>\n",
       "      <td>0.0</td>\n",
       "      <td>0.0</td>\n",
       "      <td>0.0</td>\n",
       "      <td>0.0</td>\n",
       "      <td>0.0</td>\n",
       "      <td>0.0</td>\n",
       "    </tr>\n",
       "    <tr>\n",
       "      <th>5</th>\n",
       "      <td>0.0</td>\n",
       "      <td>0.0</td>\n",
       "      <td>0.0</td>\n",
       "      <td>0.0</td>\n",
       "      <td>0.0</td>\n",
       "      <td>0.0</td>\n",
       "      <td>0.0</td>\n",
       "      <td>0.0</td>\n",
       "      <td>3.0</td>\n",
       "      <td>0.0</td>\n",
       "      <td>...</td>\n",
       "      <td>3.0</td>\n",
       "      <td>0.0</td>\n",
       "      <td>0.0</td>\n",
       "      <td>0.0</td>\n",
       "      <td>0.0</td>\n",
       "      <td>0.0</td>\n",
       "      <td>4.0</td>\n",
       "      <td>0.0</td>\n",
       "      <td>0.0</td>\n",
       "      <td>1.0</td>\n",
       "    </tr>\n",
       "    <tr>\n",
       "      <th>...</th>\n",
       "      <td>...</td>\n",
       "      <td>...</td>\n",
       "      <td>...</td>\n",
       "      <td>...</td>\n",
       "      <td>...</td>\n",
       "      <td>...</td>\n",
       "      <td>...</td>\n",
       "      <td>...</td>\n",
       "      <td>...</td>\n",
       "      <td>...</td>\n",
       "      <td>...</td>\n",
       "      <td>...</td>\n",
       "      <td>...</td>\n",
       "      <td>...</td>\n",
       "      <td>...</td>\n",
       "      <td>...</td>\n",
       "      <td>...</td>\n",
       "      <td>...</td>\n",
       "      <td>...</td>\n",
       "      <td>...</td>\n",
       "      <td>...</td>\n",
       "    </tr>\n",
       "    <tr>\n",
       "      <th>263007</th>\n",
       "      <td>0.0</td>\n",
       "      <td>0.0</td>\n",
       "      <td>0.0</td>\n",
       "      <td>0.0</td>\n",
       "      <td>0.0</td>\n",
       "      <td>0.0</td>\n",
       "      <td>0.0</td>\n",
       "      <td>0.0</td>\n",
       "      <td>0.0</td>\n",
       "      <td>0.0</td>\n",
       "      <td>...</td>\n",
       "      <td>0.0</td>\n",
       "      <td>0.0</td>\n",
       "      <td>0.0</td>\n",
       "      <td>0.0</td>\n",
       "      <td>0.0</td>\n",
       "      <td>0.0</td>\n",
       "      <td>0.0</td>\n",
       "      <td>0.0</td>\n",
       "      <td>0.0</td>\n",
       "      <td>0.0</td>\n",
       "    </tr>\n",
       "    <tr>\n",
       "      <th>263407</th>\n",
       "      <td>0.0</td>\n",
       "      <td>0.0</td>\n",
       "      <td>0.0</td>\n",
       "      <td>0.0</td>\n",
       "      <td>0.0</td>\n",
       "      <td>0.0</td>\n",
       "      <td>0.0</td>\n",
       "      <td>0.0</td>\n",
       "      <td>0.0</td>\n",
       "      <td>0.0</td>\n",
       "      <td>...</td>\n",
       "      <td>0.0</td>\n",
       "      <td>0.0</td>\n",
       "      <td>0.0</td>\n",
       "      <td>0.0</td>\n",
       "      <td>0.0</td>\n",
       "      <td>0.0</td>\n",
       "      <td>0.0</td>\n",
       "      <td>0.0</td>\n",
       "      <td>0.0</td>\n",
       "      <td>0.0</td>\n",
       "    </tr>\n",
       "    <tr>\n",
       "      <th>268642</th>\n",
       "      <td>0.0</td>\n",
       "      <td>0.0</td>\n",
       "      <td>0.0</td>\n",
       "      <td>0.0</td>\n",
       "      <td>0.0</td>\n",
       "      <td>0.0</td>\n",
       "      <td>0.0</td>\n",
       "      <td>0.0</td>\n",
       "      <td>0.0</td>\n",
       "      <td>0.0</td>\n",
       "      <td>...</td>\n",
       "      <td>0.0</td>\n",
       "      <td>0.0</td>\n",
       "      <td>0.0</td>\n",
       "      <td>0.0</td>\n",
       "      <td>0.0</td>\n",
       "      <td>0.0</td>\n",
       "      <td>0.0</td>\n",
       "      <td>0.0</td>\n",
       "      <td>0.0</td>\n",
       "      <td>0.0</td>\n",
       "    </tr>\n",
       "    <tr>\n",
       "      <th>270698</th>\n",
       "      <td>0.0</td>\n",
       "      <td>0.0</td>\n",
       "      <td>0.0</td>\n",
       "      <td>0.0</td>\n",
       "      <td>0.0</td>\n",
       "      <td>0.0</td>\n",
       "      <td>0.0</td>\n",
       "      <td>0.0</td>\n",
       "      <td>0.0</td>\n",
       "      <td>0.0</td>\n",
       "      <td>...</td>\n",
       "      <td>0.0</td>\n",
       "      <td>0.0</td>\n",
       "      <td>0.0</td>\n",
       "      <td>0.0</td>\n",
       "      <td>0.0</td>\n",
       "      <td>0.0</td>\n",
       "      <td>0.0</td>\n",
       "      <td>0.0</td>\n",
       "      <td>0.0</td>\n",
       "      <td>0.0</td>\n",
       "    </tr>\n",
       "    <tr>\n",
       "      <th>274053</th>\n",
       "      <td>0.0</td>\n",
       "      <td>0.0</td>\n",
       "      <td>0.0</td>\n",
       "      <td>0.0</td>\n",
       "      <td>0.0</td>\n",
       "      <td>0.0</td>\n",
       "      <td>0.0</td>\n",
       "      <td>0.0</td>\n",
       "      <td>0.0</td>\n",
       "      <td>0.0</td>\n",
       "      <td>...</td>\n",
       "      <td>0.0</td>\n",
       "      <td>0.0</td>\n",
       "      <td>0.0</td>\n",
       "      <td>0.0</td>\n",
       "      <td>0.0</td>\n",
       "      <td>0.0</td>\n",
       "      <td>0.0</td>\n",
       "      <td>0.0</td>\n",
       "      <td>0.0</td>\n",
       "      <td>0.0</td>\n",
       "    </tr>\n",
       "  </tbody>\n",
       "</table>\n",
       "<p>2958 rows × 329736 columns</p>\n",
       "</div>"
      ],
      "text/plain": [
       "userId   1       2       3       4       5       6       7       8       \\\n",
       "movieId                                                                   \n",
       "1           4.0     5.0     0.0     0.0     0.0     0.0     4.0     0.0   \n",
       "2           0.0     3.0     0.0     0.0     0.0     0.0     0.0     0.0   \n",
       "3           0.0     0.0     0.0     0.0     0.0     0.0     3.0     0.0   \n",
       "4           0.0     0.0     0.0     0.0     0.0     0.0     0.0     0.0   \n",
       "5           0.0     0.0     0.0     0.0     0.0     0.0     0.0     0.0   \n",
       "...         ...     ...     ...     ...     ...     ...     ...     ...   \n",
       "263007      0.0     0.0     0.0     0.0     0.0     0.0     0.0     0.0   \n",
       "263407      0.0     0.0     0.0     0.0     0.0     0.0     0.0     0.0   \n",
       "268642      0.0     0.0     0.0     0.0     0.0     0.0     0.0     0.0   \n",
       "270698      0.0     0.0     0.0     0.0     0.0     0.0     0.0     0.0   \n",
       "274053      0.0     0.0     0.0     0.0     0.0     0.0     0.0     0.0   \n",
       "\n",
       "userId   9       10      ...  330966  330967  330968  330969  330970  330971  \\\n",
       "movieId                  ...                                                   \n",
       "1           0.0     3.0  ...     3.0     0.0     0.0     0.0     0.0     0.0   \n",
       "2           4.0     0.0  ...     0.0     0.0     0.0     0.0     0.0     0.0   \n",
       "3           5.0     0.0  ...     3.0     0.0     0.0     0.0     0.0     0.0   \n",
       "4           0.0     0.0  ...     0.0     0.0     0.0     0.0     0.0     0.0   \n",
       "5           3.0     0.0  ...     3.0     0.0     0.0     0.0     0.0     0.0   \n",
       "...         ...     ...  ...     ...     ...     ...     ...     ...     ...   \n",
       "263007      0.0     0.0  ...     0.0     0.0     0.0     0.0     0.0     0.0   \n",
       "263407      0.0     0.0  ...     0.0     0.0     0.0     0.0     0.0     0.0   \n",
       "268642      0.0     0.0  ...     0.0     0.0     0.0     0.0     0.0     0.0   \n",
       "270698      0.0     0.0  ...     0.0     0.0     0.0     0.0     0.0     0.0   \n",
       "274053      0.0     0.0  ...     0.0     0.0     0.0     0.0     0.0     0.0   \n",
       "\n",
       "userId   330972  330973  330974  330975  \n",
       "movieId                                  \n",
       "1           3.0     0.0     0.0     2.5  \n",
       "2           0.0     0.0     3.0     2.0  \n",
       "3           5.0     0.0     0.0     1.0  \n",
       "4           0.0     0.0     0.0     0.0  \n",
       "5           4.0     0.0     0.0     1.0  \n",
       "...         ...     ...     ...     ...  \n",
       "263007      0.0     0.0     0.0     0.0  \n",
       "263407      0.0     0.0     0.0     0.0  \n",
       "268642      0.0     0.0     0.0     0.0  \n",
       "270698      0.0     0.0     0.0     0.0  \n",
       "274053      0.0     0.0     0.0     0.0  \n",
       "\n",
       "[2958 rows x 329736 columns]"
      ]
     },
     "execution_count": 28,
     "metadata": {},
     "output_type": "execute_result"
    }
   ],
   "source": [
    "movies_users"
   ]
  },
  {
   "cell_type": "code",
   "execution_count": 29,
   "metadata": {},
   "outputs": [],
   "source": [
    "mat_movies_users=csr_matrix(movies_users.values)"
   ]
  },
  {
   "cell_type": "code",
   "execution_count": 30,
   "metadata": {},
   "outputs": [
    {
     "data": {
      "text/html": [
       "<div>\n",
       "<style scoped>\n",
       "    .dataframe tbody tr th:only-of-type {\n",
       "        vertical-align: middle;\n",
       "    }\n",
       "\n",
       "    .dataframe tbody tr th {\n",
       "        vertical-align: top;\n",
       "    }\n",
       "\n",
       "    .dataframe thead th {\n",
       "        text-align: right;\n",
       "    }\n",
       "</style>\n",
       "<table border=\"1\" class=\"dataframe\">\n",
       "  <thead>\n",
       "    <tr style=\"text-align: right;\">\n",
       "      <th></th>\n",
       "      <th>movieId</th>\n",
       "      <th>title</th>\n",
       "    </tr>\n",
       "  </thead>\n",
       "  <tbody>\n",
       "    <tr>\n",
       "      <th>0</th>\n",
       "      <td>1</td>\n",
       "      <td>Toy Story (1995)</td>\n",
       "    </tr>\n",
       "    <tr>\n",
       "      <th>1</th>\n",
       "      <td>2</td>\n",
       "      <td>Jumanji (1995)</td>\n",
       "    </tr>\n",
       "    <tr>\n",
       "      <th>2</th>\n",
       "      <td>3</td>\n",
       "      <td>Grumpier Old Men (1995)</td>\n",
       "    </tr>\n",
       "    <tr>\n",
       "      <th>3</th>\n",
       "      <td>4</td>\n",
       "      <td>Waiting to Exhale (1995)</td>\n",
       "    </tr>\n",
       "    <tr>\n",
       "      <th>4</th>\n",
       "      <td>5</td>\n",
       "      <td>Father of the Bride Part II (1995)</td>\n",
       "    </tr>\n",
       "    <tr>\n",
       "      <th>...</th>\n",
       "      <td>...</td>\n",
       "      <td>...</td>\n",
       "    </tr>\n",
       "    <tr>\n",
       "      <th>2953</th>\n",
       "      <td>263007</td>\n",
       "      <td>Spider-Man: No Way Home (2021)</td>\n",
       "    </tr>\n",
       "    <tr>\n",
       "      <th>2954</th>\n",
       "      <td>263407</td>\n",
       "      <td>Don't Look Up (2021)</td>\n",
       "    </tr>\n",
       "    <tr>\n",
       "      <th>2955</th>\n",
       "      <td>268642</td>\n",
       "      <td>The Batman (2022)</td>\n",
       "    </tr>\n",
       "    <tr>\n",
       "      <th>2956</th>\n",
       "      <td>270698</td>\n",
       "      <td>Everything Everywhere All at Once (2022)</td>\n",
       "    </tr>\n",
       "    <tr>\n",
       "      <th>2957</th>\n",
       "      <td>274053</td>\n",
       "      <td>Top Gun: Maverick (2022)</td>\n",
       "    </tr>\n",
       "  </tbody>\n",
       "</table>\n",
       "<p>2958 rows × 2 columns</p>\n",
       "</div>"
      ],
      "text/plain": [
       "      movieId                                     title\n",
       "0           1                          Toy Story (1995)\n",
       "1           2                            Jumanji (1995)\n",
       "2           3                   Grumpier Old Men (1995)\n",
       "3           4                  Waiting to Exhale (1995)\n",
       "4           5        Father of the Bride Part II (1995)\n",
       "...       ...                                       ...\n",
       "2953   263007            Spider-Man: No Way Home (2021)\n",
       "2954   263407                      Don't Look Up (2021)\n",
       "2955   268642                         The Batman (2022)\n",
       "2956   270698  Everything Everywhere All at Once (2022)\n",
       "2957   274053                  Top Gun: Maverick (2022)\n",
       "\n",
       "[2958 rows x 2 columns]"
      ]
     },
     "execution_count": 30,
     "metadata": {},
     "output_type": "execute_result"
    }
   ],
   "source": [
    "df_movies_adjusted"
   ]
  },
  {
   "cell_type": "code",
   "execution_count": 31,
   "metadata": {},
   "outputs": [
    {
     "data": {
      "text/plain": [
       "userId\n",
       "1         0.0\n",
       "2         0.0\n",
       "3         0.0\n",
       "4         0.0\n",
       "5         0.0\n",
       "         ... \n",
       "330971    0.0\n",
       "330972    0.0\n",
       "330973    0.0\n",
       "330974    0.0\n",
       "330975    0.0\n",
       "Name: 125916, Length: 329736, dtype: float32"
      ]
     },
     "execution_count": 31,
     "metadata": {},
     "output_type": "execute_result"
    }
   ],
   "source": [
    "movies_users.iloc[2778]"
   ]
  },
  {
   "cell_type": "code",
   "execution_count": 32,
   "metadata": {},
   "outputs": [
    {
     "data": {
      "text/plain": [
       "(<1x329736 sparse matrix of type '<class 'numpy.float32'>'\n",
       " \twith 4883 stored elements in Compressed Sparse Row format>,\n",
       " movieId                                 4008\n",
       " title      Born on the Fourth of July (1989)\n",
       " Name: 1558, dtype: object)"
      ]
     },
     "execution_count": 32,
     "metadata": {},
     "output_type": "execute_result"
    }
   ],
   "source": [
    "mat_movies_users[1558], df_movies_adjusted.iloc[1558]"
   ]
  },
  {
   "cell_type": "code",
   "execution_count": 33,
   "metadata": {},
   "outputs": [],
   "source": [
    "model_knn = NearestNeighbors(metric=\"minkowski\", algorithm=\"brute\", n_neighbors=20)"
   ]
  },
  {
   "cell_type": "code",
   "execution_count": 34,
   "metadata": {},
   "outputs": [
    {
     "data": {
      "text/plain": [
       "array([[0., 0., 0., ..., 0., 0., 0.]], dtype=float32)"
      ]
     },
     "execution_count": 34,
     "metadata": {},
     "output_type": "execute_result"
    }
   ],
   "source": [
    "mat_movies_users[2957].toarray()"
   ]
  },
  {
   "cell_type": "code",
   "execution_count": 35,
   "metadata": {},
   "outputs": [
    {
     "data": {
      "text/plain": [
       "('Goofy Movie, A (1995)', 141)"
      ]
     },
     "execution_count": 35,
     "metadata": {},
     "output_type": "execute_result"
    }
   ],
   "source": [
    "idx=process.extractOne(\"Goofy Movie, A (1995)\", df_movies_adjusted[\"title\"], score_cutoff=10)[2]\n",
    "df_movies_adjusted[\"title\"][idx], idx"
   ]
  },
  {
   "cell_type": "code",
   "execution_count": 36,
   "metadata": {},
   "outputs": [
    {
     "data": {
      "text/plain": [
       "movieId                         125916\n",
       "title      Fifty Shades of Grey (2015)\n",
       "Name: 2778, dtype: object"
      ]
     },
     "execution_count": 36,
     "metadata": {},
     "output_type": "execute_result"
    }
   ],
   "source": [
    "df_movies_adjusted.iloc[2778]"
   ]
  },
  {
   "cell_type": "code",
   "execution_count": 49,
   "metadata": {},
   "outputs": [],
   "source": [
    "def recommender(idx, data, model, n_recommendations):\n",
    "    model.fit(data)\n",
    "    # idx = process.extractOne(movie_name, df_movies_adjusted[\"title\"])[2]\n",
    "    print(\"Movie Selected: \", df_movies_adjusted[\"title\"][idx], \"Index: \", idx)\n",
    "    print(\n",
    "        \"--------------------------------\\nSearching for recommendations...\\n--------------------------------\"\n",
    "    )\n",
    "    distances, indices = model.kneighbors(data[idx], n_neighbors=n_recommendations)\n",
    "    print(f\"10 movies most similar to {df_movies_adjusted['title'][idx]} according to user reviews:\")\n",
    "    for i, d in zip(indices, distances):\n",
    "        for index, distance in zip(i, d):\n",
    "            if index != idx:\n",
    "                print(\n",
    "                    f\"{index}: {df_movies_adjusted['title'][index]} {round(distance)}\"\n",
    "                )\n",
    "\n",
    "\n",
    "# recommender(\"Doom (2005)\", mat_movies_users, model_knn, 10)"
   ]
  },
  {
   "cell_type": "code",
   "execution_count": 51,
   "metadata": {},
   "outputs": [],
   "source": [
    "def choose_movie():\n",
    "    user_input = input(\"Please enter the name of a movie:\")\n",
    "    choices = process.extract(user_input, df_movies_adjusted[\"title\"], limit=5)\n",
    "    print(f\"Top 5 results for query: '{user_input}'\")\n",
    "    for c, i in zip(choices, range(1, 6)):\n",
    "        print(i, c[0])\n",
    "    user_input = input(\"Choose movie (1-5): \")\n",
    "    return choices[int(user_input)-1][2]"
   ]
  },
  {
   "cell_type": "code",
   "execution_count": 52,
   "metadata": {},
   "outputs": [
    {
     "name": "stdout",
     "output_type": "stream",
     "text": [
      "Top 5 results for query: 'iron man'\n",
      "1 Iron Man (2008)\n",
      "2 Iron Man 2 (2010)\n",
      "3 Iron Man 3 (2013)\n",
      "4 Dead Man Walking (1995)\n",
      "5 Lawnmower Man 2: Beyond Cyberspace (1996)\n",
      "Movie Selected:  Iron Man (2008) Index:  2329\n",
      "--------------------------------\n",
      "Searching for recommendations...\n",
      "--------------------------------\n",
      "10 movies most similar Iron Man (2008) by user reviews\n",
      "2470: Iron Man 2 (2010) 624\n",
      "2569: Avengers, The (2012) 626\n",
      "2650: Iron Man 3 (2013) 658\n",
      "2405: Star Trek (2009) 658\n",
      "2711: Captain America: The Winter Soldier (2014) 667\n",
      "2561: Captain America: The First Avenger (2011) 667\n",
      "2552: X-Men: First Class (2011) 673\n",
      "2541: Thor (2011) 674\n",
      "2452: Sherlock Holmes (2009) 674\n"
     ]
    }
   ],
   "source": [
    "movie_pick = choose_movie()\n",
    "recommender(movie_pick , mat_movies_users, model_knn, 10)"
   ]
  },
  {
   "cell_type": "code",
   "execution_count": 40,
   "metadata": {},
   "outputs": [
    {
     "data": {
      "text/plain": [
       "'Rocky III (1982)'"
      ]
     },
     "execution_count": 40,
     "metadata": {},
     "output_type": "execute_result"
    }
   ],
   "source": [
    "df_movies_adjusted[\"title\"][test]"
   ]
  },
  {
   "cell_type": "code",
   "execution_count": null,
   "metadata": {},
   "outputs": [],
   "source": []
  }
 ],
 "metadata": {
  "kernelspec": {
   "display_name": "venv",
   "language": "python",
   "name": "python3"
  },
  "language_info": {
   "codemirror_mode": {
    "name": "ipython",
    "version": 3
   },
   "file_extension": ".py",
   "mimetype": "text/x-python",
   "name": "python",
   "nbconvert_exporter": "python",
   "pygments_lexer": "ipython3",
   "version": "3.11.7"
  }
 },
 "nbformat": 4,
 "nbformat_minor": 2
}
