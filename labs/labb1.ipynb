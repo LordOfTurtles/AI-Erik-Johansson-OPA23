{
 "cells": [
  {
   "cell_type": "markdown",
   "metadata": {},
   "source": [
    "# Laboration maskininlärning AI22"
   ]
  },
  {
   "cell_type": "markdown",
   "metadata": {},
   "source": [
    "## 1.0 - Uppvärmning\n",
    "recommender_test.ipynb"
   ]
  },
  {
   "cell_type": "markdown",
   "metadata": {},
   "source": [
    "## 1.1 - Movielens full - EDA"
   ]
  },
  {
   "cell_type": "code",
   "execution_count": 2,
   "metadata": {},
   "outputs": [
    {
     "name": "stderr",
     "output_type": "stream",
     "text": [
      "y:\\Skola\\OOP\\Skolarbete\\AI-Erik-Johansson-OPA23\\venv\\Lib\\site-packages\\fuzzywuzzy\\fuzz.py:11: UserWarning: Using slow pure-python SequenceMatcher. Install python-Levenshtein to remove this warning\n",
      "  warnings.warn('Using slow pure-python SequenceMatcher. Install python-Levenshtein to remove this warning')\n"
     ]
    }
   ],
   "source": [
    "import pandas as pd\n",
    "from scipy.sparse import csr_matrix\n",
    "from sklearn.neighbors import NearestNeighbors\n",
    "from fuzzywuzzy import process"
   ]
  },
  {
   "cell_type": "code",
   "execution_count": 3,
   "metadata": {},
   "outputs": [],
   "source": [
    "# load in datasets\n",
    "movies='data/large/movies.csv'\n",
    "ratings='data/large/ratings.csv'\n",
    "\n",
    "df_movies=pd.read_csv(movies, usecols=['movieId', 'title'], dtype={'movieId' : 'int32', 'title' : 'str'})\n",
    "df_ratings=pd.read_csv(ratings, usecols=['userId', 'movieId', 'rating'], dtype={'userId':'int32', 'movieId':'int32', 'rating':'float32'})"
   ]
  },
  {
   "cell_type": "markdown",
   "metadata": {},
   "source": [
    "### a)"
   ]
  },
  {
   "cell_type": "code",
   "execution_count": 4,
   "metadata": {},
   "outputs": [
    {
     "data": {
      "text/html": [
       "<div>\n",
       "<style scoped>\n",
       "    .dataframe tbody tr th:only-of-type {\n",
       "        vertical-align: middle;\n",
       "    }\n",
       "\n",
       "    .dataframe tbody tr th {\n",
       "        vertical-align: top;\n",
       "    }\n",
       "\n",
       "    .dataframe thead th {\n",
       "        text-align: right;\n",
       "    }\n",
       "</style>\n",
       "<table border=\"1\" class=\"dataframe\">\n",
       "  <thead>\n",
       "    <tr style=\"text-align: right;\">\n",
       "      <th></th>\n",
       "      <th>movieId</th>\n",
       "      <th>title</th>\n",
       "    </tr>\n",
       "  </thead>\n",
       "  <tbody>\n",
       "    <tr>\n",
       "      <th>0</th>\n",
       "      <td>1</td>\n",
       "      <td>Toy Story (1995)</td>\n",
       "    </tr>\n",
       "    <tr>\n",
       "      <th>1</th>\n",
       "      <td>2</td>\n",
       "      <td>Jumanji (1995)</td>\n",
       "    </tr>\n",
       "    <tr>\n",
       "      <th>2</th>\n",
       "      <td>3</td>\n",
       "      <td>Grumpier Old Men (1995)</td>\n",
       "    </tr>\n",
       "    <tr>\n",
       "      <th>3</th>\n",
       "      <td>4</td>\n",
       "      <td>Waiting to Exhale (1995)</td>\n",
       "    </tr>\n",
       "    <tr>\n",
       "      <th>4</th>\n",
       "      <td>5</td>\n",
       "      <td>Father of the Bride Part II (1995)</td>\n",
       "    </tr>\n",
       "  </tbody>\n",
       "</table>\n",
       "</div>"
      ],
      "text/plain": [
       "   movieId                               title\n",
       "0        1                    Toy Story (1995)\n",
       "1        2                      Jumanji (1995)\n",
       "2        3             Grumpier Old Men (1995)\n",
       "3        4            Waiting to Exhale (1995)\n",
       "4        5  Father of the Bride Part II (1995)"
      ]
     },
     "execution_count": 4,
     "metadata": {},
     "output_type": "execute_result"
    }
   ],
   "source": [
    "df_movies.head()"
   ]
  },
  {
   "cell_type": "code",
   "execution_count": 5,
   "metadata": {},
   "outputs": [
    {
     "name": "stdout",
     "output_type": "stream",
     "text": [
      "<class 'pandas.core.frame.DataFrame'>\n",
      "RangeIndex: 86537 entries, 0 to 86536\n",
      "Data columns (total 2 columns):\n",
      " #   Column   Non-Null Count  Dtype \n",
      "---  ------   --------------  ----- \n",
      " 0   movieId  86537 non-null  int32 \n",
      " 1   title    86537 non-null  object\n",
      "dtypes: int32(1), object(1)\n",
      "memory usage: 1014.2+ KB\n"
     ]
    }
   ],
   "source": [
    "df_movies.info()"
   ]
  },
  {
   "cell_type": "code",
   "execution_count": 6,
   "metadata": {},
   "outputs": [
    {
     "data": {
      "text/html": [
       "<div>\n",
       "<style scoped>\n",
       "    .dataframe tbody tr th:only-of-type {\n",
       "        vertical-align: middle;\n",
       "    }\n",
       "\n",
       "    .dataframe tbody tr th {\n",
       "        vertical-align: top;\n",
       "    }\n",
       "\n",
       "    .dataframe thead th {\n",
       "        text-align: right;\n",
       "    }\n",
       "</style>\n",
       "<table border=\"1\" class=\"dataframe\">\n",
       "  <thead>\n",
       "    <tr style=\"text-align: right;\">\n",
       "      <th></th>\n",
       "      <th>userId</th>\n",
       "      <th>movieId</th>\n",
       "      <th>rating</th>\n",
       "    </tr>\n",
       "  </thead>\n",
       "  <tbody>\n",
       "    <tr>\n",
       "      <th>0</th>\n",
       "      <td>1</td>\n",
       "      <td>1</td>\n",
       "      <td>4.0</td>\n",
       "    </tr>\n",
       "    <tr>\n",
       "      <th>1</th>\n",
       "      <td>1</td>\n",
       "      <td>110</td>\n",
       "      <td>4.0</td>\n",
       "    </tr>\n",
       "    <tr>\n",
       "      <th>2</th>\n",
       "      <td>1</td>\n",
       "      <td>158</td>\n",
       "      <td>4.0</td>\n",
       "    </tr>\n",
       "    <tr>\n",
       "      <th>3</th>\n",
       "      <td>1</td>\n",
       "      <td>260</td>\n",
       "      <td>4.5</td>\n",
       "    </tr>\n",
       "    <tr>\n",
       "      <th>4</th>\n",
       "      <td>1</td>\n",
       "      <td>356</td>\n",
       "      <td>5.0</td>\n",
       "    </tr>\n",
       "  </tbody>\n",
       "</table>\n",
       "</div>"
      ],
      "text/plain": [
       "   userId  movieId  rating\n",
       "0       1        1     4.0\n",
       "1       1      110     4.0\n",
       "2       1      158     4.0\n",
       "3       1      260     4.5\n",
       "4       1      356     5.0"
      ]
     },
     "execution_count": 6,
     "metadata": {},
     "output_type": "execute_result"
    }
   ],
   "source": [
    "df_ratings.head()"
   ]
  },
  {
   "cell_type": "code",
   "execution_count": 7,
   "metadata": {},
   "outputs": [
    {
     "name": "stdout",
     "output_type": "stream",
     "text": [
      "<class 'pandas.core.frame.DataFrame'>\n",
      "RangeIndex: 33832162 entries, 0 to 33832161\n",
      "Data columns (total 3 columns):\n",
      " #   Column   Dtype  \n",
      "---  ------   -----  \n",
      " 0   userId   int32  \n",
      " 1   movieId  int32  \n",
      " 2   rating   float32\n",
      "dtypes: float32(1), int32(2)\n",
      "memory usage: 387.2 MB\n"
     ]
    }
   ],
   "source": [
    "df_ratings.info()"
   ]
  },
  {
   "cell_type": "code",
   "execution_count": 50,
   "metadata": {},
   "outputs": [
    {
     "data": {
      "text/html": [
       "<div>\n",
       "<style scoped>\n",
       "    .dataframe tbody tr th:only-of-type {\n",
       "        vertical-align: middle;\n",
       "    }\n",
       "\n",
       "    .dataframe tbody tr th {\n",
       "        vertical-align: top;\n",
       "    }\n",
       "\n",
       "    .dataframe thead th {\n",
       "        text-align: right;\n",
       "    }\n",
       "</style>\n",
       "<table border=\"1\" class=\"dataframe\">\n",
       "  <thead>\n",
       "    <tr style=\"text-align: right;\">\n",
       "      <th></th>\n",
       "      <th>userId</th>\n",
       "      <th>ratings</th>\n",
       "    </tr>\n",
       "  </thead>\n",
       "  <tbody>\n",
       "    <tr>\n",
       "      <th>0</th>\n",
       "      <td>189614</td>\n",
       "      <td>33332</td>\n",
       "    </tr>\n",
       "    <tr>\n",
       "      <th>1</th>\n",
       "      <td>48766</td>\n",
       "      <td>9554</td>\n",
       "    </tr>\n",
       "    <tr>\n",
       "      <th>2</th>\n",
       "      <td>207216</td>\n",
       "      <td>9178</td>\n",
       "    </tr>\n",
       "    <tr>\n",
       "      <th>3</th>\n",
       "      <td>175998</td>\n",
       "      <td>9016</td>\n",
       "    </tr>\n",
       "    <tr>\n",
       "      <th>4</th>\n",
       "      <td>76618</td>\n",
       "      <td>8919</td>\n",
       "    </tr>\n",
       "  </tbody>\n",
       "</table>\n",
       "</div>"
      ],
      "text/plain": [
       "   userId  ratings\n",
       "0  189614    33332\n",
       "1   48766     9554\n",
       "2  207216     9178\n",
       "3  175998     9016\n",
       "4   76618     8919"
      ]
     },
     "execution_count": 50,
     "metadata": {},
     "output_type": "execute_result"
    }
   ],
   "source": [
    "top5_users = df_ratings[\"userId\"].value_counts().index.tolist()[:5]\n",
    "top5_user_ratings = df_ratings[\"userId\"].value_counts().tolist()[:5]\n",
    "df_ratings_per_user = pd.DataFrame({\"userId\": top5_users, \"ratings\": top5_user_ratings})\n",
    "df_ratings_per_user"
   ]
  },
  {
   "cell_type": "code",
   "execution_count": 60,
   "metadata": {},
   "outputs": [
    {
     "name": "stderr",
     "output_type": "stream",
     "text": [
      "C:\\Users\\Erik\\AppData\\Local\\Temp\\ipykernel_2592\\3943175986.py:5: FutureWarning: The provided callable <function median at 0x00000265D3F46B60> is currently using SeriesGroupBy.median. In a future version of pandas, the provided callable will be used directly. To keep current behavior pass the string \"median\" instead.\n",
      "  result = df_ratings_per_user.groupby([\"userId\"])[\"ratings\"].aggregate(np.median).reset_index().sort_values(\"ratings\", ascending=False)\n"
     ]
    },
    {
     "data": {
      "image/png": "[encoded data removed]",
      "text/plain": [
       "<Figure size 640x480 with 1 Axes>"
      ]
     },
     "metadata": {},
     "output_type": "display_data"
    }
   ],
   "source": [
    "import seaborn as sns\n",
    "import numpy as np\n",
    "\n",
    "# https://stackoverflow.com/questions/71815203/sorting-bars-and-legend-in-seaborn-stacked-histplot-without-rearranging-the-data\n",
    "result = df_ratings_per_user.groupby([\"userId\"])[\"ratings\"].aggregate(np.median).reset_index().sort_values(\"ratings\", ascending=False)\n",
    "\n",
    "ax = sns.barplot(x=\"userId\", y=\"ratings\", data=df_ratings_per_user, order=result[\"userId\"])\n",
    "sns.barplot(x=df_ratings_per_user[\"userId\"], y=df_ratings_per_user[\"ratings\"])\n",
    "ax.set(\n",
    "    ylabel=\"movie ratings\",\n",
    "    xlabel=\"userId\",\n",
    "    title=\"Top 5 userIds with most movies rated\",\n",
    "    ylim=(0, 35000)\n",
    ")\n",
    "ax.spines[[\"top\", \"right\"]].set_visible(False)\n",
    "ax.spines[[\"bottom\", \"left\"]].set_color(\"gray\")\n",
    "ax.tick_params(colors=\"gray\")"
   ]
  },
  {
   "cell_type": "markdown",
   "metadata": {},
   "source": [
    "### b)"
   ]
  },
  {
   "cell_type": "code",
   "execution_count": 9,
   "metadata": {},
   "outputs": [
    {
     "data": {
      "text/plain": [
       "movieId\n",
       "318     122296\n",
       "356     113581\n",
       "296     108756\n",
       "2571    107056\n",
       "593     101802\n",
       "260      97202\n",
       "2959     86207\n",
       "527      84232\n",
       "480      83026\n",
       "1196     80200\n",
       "Name: count, dtype: int64"
      ]
     },
     "execution_count": 9,
     "metadata": {},
     "output_type": "execute_result"
    }
   ],
   "source": [
    "# sort out top 10 movieIds by which ones have the most ratings\n",
    "df_ratings[\"movieId\"].value_counts()[:10]"
   ]
  },
  {
   "cell_type": "code",
   "execution_count": 10,
   "metadata": {},
   "outputs": [
    {
     "data": {
      "text/plain": [
       "[318, 356, 296, 2571, 593, 260, 2959, 527, 480, 1196]"
      ]
     },
     "execution_count": 10,
     "metadata": {},
     "output_type": "execute_result"
    }
   ],
   "source": [
    "# make list with most rated movieIds\n",
    "most_rated = df_ratings[\"movieId\"].value_counts()[:10].index.to_list()\n",
    "most_rated"
   ]
  },
  {
   "cell_type": "code",
   "execution_count": 11,
   "metadata": {},
   "outputs": [
    {
     "name": "stdout",
     "output_type": "stream",
     "text": [
      "Top 10 movies by number of ratings:\n",
      "Shawshank Redemption, The (1994)\n",
      "Forrest Gump (1994)\n",
      "Pulp Fiction (1994)\n",
      "Matrix, The (1999)\n",
      "Silence of the Lambs, The (1991)\n",
      "Star Wars: Episode IV - A New Hope (1977)\n",
      "Fight Club (1999)\n",
      "Schindler's List (1993)\n",
      "Jurassic Park (1993)\n",
      "Star Wars: Episode V - The Empire Strikes Back (1980)\n"
     ]
    }
   ],
   "source": [
    "# Match movieId to title in movie dataframe\n",
    "print(\"Top 10 movies by number of ratings:\")\n",
    "for m in most_rated:\n",
    "    print(df_movies[df_movies[\"movieId\"] == m][\"title\"].values[0])"
   ]
  },
  {
   "cell_type": "markdown",
   "metadata": {},
   "source": [
    "### c)"
   ]
  },
  {
   "cell_type": "code",
   "execution_count": 12,
   "metadata": {},
   "outputs": [
    {
     "name": "stdout",
     "output_type": "stream",
     "text": [
      "Average rating for top 10 most rated movies:\n",
      "Shawshank Redemption, The (1994) Average rating:  4.42\n",
      "Forrest Gump (1994) Average rating:  4.07\n",
      "Pulp Fiction (1994) Average rating:  4.19\n",
      "Matrix, The (1999) Average rating:  4.16\n",
      "Silence of the Lambs, The (1991) Average rating:  4.15\n",
      "Star Wars: Episode IV - A New Hope (1977) Average rating:  4.09\n",
      "Fight Club (1999) Average rating:  4.24\n",
      "Schindler's List (1993) Average rating:  4.24\n",
      "Jurassic Park (1993) Average rating:  3.69\n",
      "Star Wars: Episode V - The Empire Strikes Back (1980) Average rating:  4.12\n"
     ]
    }
   ],
   "source": [
    "print(\"Average rating for top 10 most rated movies:\")\n",
    "for m in most_rated:\n",
    "    # calculate mean value of ratings for each top 10 rated movie\n",
    "    print(df_movies[df_movies[\"movieId\"] == m][\"title\"].values[0],\"Average rating: \", round(df_ratings[df_ratings[\"movieId\"] == m][\"rating\"].mean(), 2))"
   ]
  },
  {
   "cell_type": "markdown",
   "metadata": {},
   "source": [
    "### d)"
   ]
  },
  {
   "cell_type": "code",
   "execution_count": 13,
   "metadata": {},
   "outputs": [
    {
     "data": {
      "text/plain": [
       "[1, 0, 0, 0, 2]"
      ]
     },
     "execution_count": 13,
     "metadata": {},
     "output_type": "execute_result"
    }
   ],
   "source": [
    "# Checked which years were the earliest and latest to appear by initally using (1800, 2025) -> 1874, 2023(exclusive)\n",
    "years = range(1874, 2024)\n",
    "# Use parenthesis '()' to avoid movies with a year in the actual title\n",
    "films_per_year = [df_movies[df_movies[\"title\"].str.contains(f\"({y})\", regex=False)][\"movieId\"].count() for y in years]\n",
    "films_per_year[:5]"
   ]
  },
  {
   "cell_type": "code",
   "execution_count": 14,
   "metadata": {},
   "outputs": [
    {
     "data": {
      "text/html": [
       "<div>\n",
       "<style scoped>\n",
       "    .dataframe tbody tr th:only-of-type {\n",
       "        vertical-align: middle;\n",
       "    }\n",
       "\n",
       "    .dataframe tbody tr th {\n",
       "        vertical-align: top;\n",
       "    }\n",
       "\n",
       "    .dataframe thead th {\n",
       "        text-align: right;\n",
       "    }\n",
       "</style>\n",
       "<table border=\"1\" class=\"dataframe\">\n",
       "  <thead>\n",
       "    <tr style=\"text-align: right;\">\n",
       "      <th></th>\n",
       "      <th>movieId</th>\n",
       "      <th>title</th>\n",
       "    </tr>\n",
       "  </thead>\n",
       "  <tbody>\n",
       "    <tr>\n",
       "      <th>23423</th>\n",
       "      <td>117909</td>\n",
       "      <td>The Kiss (1900)</td>\n",
       "    </tr>\n",
       "    <tr>\n",
       "      <th>37918</th>\n",
       "      <td>152908</td>\n",
       "      <td>Panorama of Eiffel Tower (1900)</td>\n",
       "    </tr>\n",
       "    <tr>\n",
       "      <th>37919</th>\n",
       "      <td>152910</td>\n",
       "      <td>Eiffel Tower from Trocadero Palace (1900)</td>\n",
       "    </tr>\n",
       "    <tr>\n",
       "      <th>37920</th>\n",
       "      <td>152912</td>\n",
       "      <td>Palace of Electricity (1900)</td>\n",
       "    </tr>\n",
       "    <tr>\n",
       "      <th>37921</th>\n",
       "      <td>152914</td>\n",
       "      <td>Champs de Mars (1900)</td>\n",
       "    </tr>\n",
       "  </tbody>\n",
       "</table>\n",
       "</div>"
      ],
      "text/plain": [
       "       movieId                                      title\n",
       "23423   117909                            The Kiss (1900)\n",
       "37918   152908            Panorama of Eiffel Tower (1900)\n",
       "37919   152910  Eiffel Tower from Trocadero Palace (1900)\n",
       "37920   152912               Palace of Electricity (1900)\n",
       "37921   152914                      Champs de Mars (1900)"
      ]
     },
     "execution_count": 14,
     "metadata": {},
     "output_type": "execute_result"
    }
   ],
   "source": [
    "df_movies[df_movies[\"title\"].str.contains(f\"({1900})\", regex=False)][:5]"
   ]
  },
  {
   "cell_type": "code",
   "execution_count": 15,
   "metadata": {},
   "outputs": [
    {
     "data": {
      "image/png": "[encoded data removed]",
      "text/plain": [
       "<Figure size 640x480 with 1 Axes>"
      ]
     },
     "metadata": {},
     "output_type": "display_data"
    }
   ],
   "source": [
    "ax = sns.lineplot(x=years, y=films_per_year)\n",
    "ax.set(\n",
    "    ylabel=\"Number of movies\",\n",
    "    xlabel=\"Release year\",\n",
    "    title=\"Number of movies per release year in movielens database\\n(1874-2023)\",\n",
    "    ylim=(0, 3500),\n",
    ")\n",
    "ax.spines[[\"top\", \"right\"]].set_visible(False)\n",
    "ax.spines[[\"top\", \"right\"]].set_visible(False)\n",
    "ax.spines[[\"bottom\", \"left\"]].set_color(\"gray\")\n",
    "ax.tick_params(colors=\"gray\")"
   ]
  },
  {
   "cell_type": "markdown",
   "metadata": {},
   "source": [
    "### e)"
   ]
  },
  {
   "cell_type": "code",
   "execution_count": 16,
   "metadata": {},
   "outputs": [
    {
     "data": {
      "text/html": [
       "<div>\n",
       "<style scoped>\n",
       "    .dataframe tbody tr th:only-of-type {\n",
       "        vertical-align: middle;\n",
       "    }\n",
       "\n",
       "    .dataframe tbody tr th {\n",
       "        vertical-align: top;\n",
       "    }\n",
       "\n",
       "    .dataframe thead th {\n",
       "        text-align: right;\n",
       "    }\n",
       "</style>\n",
       "<table border=\"1\" class=\"dataframe\">\n",
       "  <thead>\n",
       "    <tr style=\"text-align: right;\">\n",
       "      <th></th>\n",
       "      <th>movieId</th>\n",
       "      <th>ratings</th>\n",
       "    </tr>\n",
       "  </thead>\n",
       "  <tbody>\n",
       "    <tr>\n",
       "      <th>0</th>\n",
       "      <td>318</td>\n",
       "      <td>122296</td>\n",
       "    </tr>\n",
       "    <tr>\n",
       "      <th>1</th>\n",
       "      <td>356</td>\n",
       "      <td>113581</td>\n",
       "    </tr>\n",
       "    <tr>\n",
       "      <th>2</th>\n",
       "      <td>296</td>\n",
       "      <td>108756</td>\n",
       "    </tr>\n",
       "    <tr>\n",
       "      <th>3</th>\n",
       "      <td>2571</td>\n",
       "      <td>107056</td>\n",
       "    </tr>\n",
       "    <tr>\n",
       "      <th>4</th>\n",
       "      <td>593</td>\n",
       "      <td>101802</td>\n",
       "    </tr>\n",
       "  </tbody>\n",
       "</table>\n",
       "</div>"
      ],
      "text/plain": [
       "   movieId  ratings\n",
       "0      318   122296\n",
       "1      356   113581\n",
       "2      296   108756\n",
       "3     2571   107056\n",
       "4      593   101802"
      ]
     },
     "execution_count": 16,
     "metadata": {},
     "output_type": "execute_result"
    }
   ],
   "source": [
    "# make lists with movieIds and number of ratings\n",
    "rated_movieIds = df_ratings[\"movieId\"].value_counts().index.to_numpy()\n",
    "number_ratings = df_ratings[\"movieId\"].value_counts().to_numpy()\n",
    "\n",
    "# make dataframe out of lists\n",
    "df_ratings_per_movie = pd.DataFrame({\"movieId\": rated_movieIds, \"ratings\": number_ratings})\n",
    "df_ratings_per_movie.head()"
   ]
  },
  {
   "cell_type": "code",
   "execution_count": 17,
   "metadata": {},
   "outputs": [
    {
     "data": {
      "text/html": [
       "<div>\n",
       "<style scoped>\n",
       "    .dataframe tbody tr th:only-of-type {\n",
       "        vertical-align: middle;\n",
       "    }\n",
       "\n",
       "    .dataframe tbody tr th {\n",
       "        vertical-align: top;\n",
       "    }\n",
       "\n",
       "    .dataframe thead th {\n",
       "        text-align: right;\n",
       "    }\n",
       "</style>\n",
       "<table border=\"1\" class=\"dataframe\">\n",
       "  <thead>\n",
       "    <tr style=\"text-align: right;\">\n",
       "      <th></th>\n",
       "      <th>movieId</th>\n",
       "      <th>ratings</th>\n",
       "    </tr>\n",
       "  </thead>\n",
       "  <tbody>\n",
       "    <tr>\n",
       "      <th>0</th>\n",
       "      <td>1</td>\n",
       "      <td>76813</td>\n",
       "    </tr>\n",
       "    <tr>\n",
       "      <th>1</th>\n",
       "      <td>2</td>\n",
       "      <td>30209</td>\n",
       "    </tr>\n",
       "    <tr>\n",
       "      <th>2</th>\n",
       "      <td>3</td>\n",
       "      <td>15820</td>\n",
       "    </tr>\n",
       "    <tr>\n",
       "      <th>3</th>\n",
       "      <td>4</td>\n",
       "      <td>3028</td>\n",
       "    </tr>\n",
       "    <tr>\n",
       "      <th>4</th>\n",
       "      <td>5</td>\n",
       "      <td>15801</td>\n",
       "    </tr>\n",
       "    <tr>\n",
       "      <th>5</th>\n",
       "      <td>6</td>\n",
       "      <td>31850</td>\n",
       "    </tr>\n",
       "    <tr>\n",
       "      <th>6</th>\n",
       "      <td>7</td>\n",
       "      <td>15596</td>\n",
       "    </tr>\n",
       "    <tr>\n",
       "      <th>7</th>\n",
       "      <td>8</td>\n",
       "      <td>1584</td>\n",
       "    </tr>\n",
       "    <tr>\n",
       "      <th>8</th>\n",
       "      <td>9</td>\n",
       "      <td>4563</td>\n",
       "    </tr>\n",
       "    <tr>\n",
       "      <th>9</th>\n",
       "      <td>10</td>\n",
       "      <td>34942</td>\n",
       "    </tr>\n",
       "  </tbody>\n",
       "</table>\n",
       "</div>"
      ],
      "text/plain": [
       "   movieId  ratings\n",
       "0        1    76813\n",
       "1        2    30209\n",
       "2        3    15820\n",
       "3        4     3028\n",
       "4        5    15801\n",
       "5        6    31850\n",
       "6        7    15596\n",
       "7        8     1584\n",
       "8        9     4563\n",
       "9       10    34942"
      ]
     },
     "execution_count": 17,
     "metadata": {},
     "output_type": "execute_result"
    }
   ],
   "source": [
    "# sort dataframe by movieId\n",
    "df_ratings_per_movie = df_ratings_per_movie.sort_values(\"movieId\", ignore_index=True)\n",
    "df_ratings_per_movie.head(10)"
   ]
  },
  {
   "cell_type": "code",
   "execution_count": 18,
   "metadata": {},
   "outputs": [
    {
     "data": {
      "image/png": "[encoded data removed]",
      "text/plain": [
       "<Figure size 640x480 with 1 Axes>"
      ]
     },
     "metadata": {},
     "output_type": "display_data"
    }
   ],
   "source": [
    "# barplot did not work, maybe too many values?\n",
    "ax = sns.lineplot(df_ratings_per_movie, x=\"movieId\", y=\"ratings\")\n",
    "ax.set(\n",
    "    title=\"Number of ratings per movieId for movies in movielens database\",\n",
    "    ylim=(0, 130000),\n",
    ")\n",
    "ax.spines[[\"top\", \"right\"]].set_visible(False)\n",
    "ax.spines[[\"top\", \"right\"]].set_visible(False)\n",
    "ax.spines[[\"bottom\", \"left\"]].set_color(\"gray\")\n",
    "ax.tick_params(colors=\"gray\")"
   ]
  },
  {
   "cell_type": "markdown",
   "metadata": {},
   "source": [
    "### f)"
   ]
  },
  {
   "cell_type": "code",
   "execution_count": 19,
   "metadata": {},
   "outputs": [
    {
     "data": {
      "text/plain": [
       "(['Shawshank Redemption, The (1994)',\n",
       "  'Forrest Gump (1994)',\n",
       "  'Pulp Fiction (1994)',\n",
       "  'Matrix, The (1999)',\n",
       "  'Silence of the Lambs, The (1991)',\n",
       "  'Star Wars: Episode IV - A New Hope (1977)',\n",
       "  'Fight Club (1999)',\n",
       "  \"Schindler's List (1993)\",\n",
       "  'Jurassic Park (1993)',\n",
       "  'Star Wars: Episode V - The Empire Strikes Back (1980)'],\n",
       " [4.42, 4.07, 4.19, 4.16, 4.15, 4.09, 4.24, 4.24, 3.69, 4.12])"
      ]
     },
     "execution_count": 19,
     "metadata": {},
     "output_type": "execute_result"
    }
   ],
   "source": [
    "# lists with titles and average ratings for top 10 most rated movies\n",
    "title = [df_movies[df_movies[\"movieId\"] == m][\"title\"].values[0] for m in most_rated]\n",
    "avg_rating = [round(df_ratings[df_ratings[\"movieId\"] == m][\"rating\"].mean(), 2) for m in most_rated]\n",
    "\n",
    "title, avg_rating"
   ]
  },
  {
   "cell_type": "code",
   "execution_count": 54,
   "metadata": {},
   "outputs": [
    {
     "name": "stderr",
     "output_type": "stream",
     "text": [
      "C:\\Users\\Erik\\AppData\\Local\\Temp\\ipykernel_2592\\2892602837.py:11: UserWarning: set_ticklabels() should only be used with a fixed number of ticks, i.e. after set_ticks() or using a FixedLocator.\n",
      "  ax.set_xticklabels(title, rotation=90)\n"
     ]
    },
    {
     "data": {
      "text/plain": [
       "[Text(0, 0, 'Shawshank Redemption, The (1994)'),\n",
       " Text(1, 0, 'Forrest Gump (1994)'),\n",
       " Text(2, 0, 'Pulp Fiction (1994)'),\n",
       " Text(3, 0, 'Matrix, The (1999)'),\n",
       " Text(4, 0, 'Silence of the Lambs, The (1991)'),\n",
       " Text(5, 0, 'Star Wars: Episode IV - A New Hope (1977)'),\n",
       " Text(6, 0, 'Fight Club (1999)'),\n",
       " Text(7, 0, \"Schindler's List (1993)\"),\n",
       " Text(8, 0, 'Jurassic Park (1993)'),\n",
       " Text(9, 0, 'Star Wars: Episode V - The Empire Strikes Back (1980)')]"
      ]
     },
     "execution_count": 54,
     "metadata": {},
     "output_type": "execute_result"
    },
    {
     "data": {
      "image/png": "[encoded data removed]",
      "text/plain": [
       "<Figure size 640x480 with 1 Axes>"
      ]
     },
     "metadata": {},
     "output_type": "display_data"
    }
   ],
   "source": [
    "ax = sns.barplot(x=title, y=avg_rating, hue=title)\n",
    "ax.set(\n",
    "    ylabel=\"average rating\",\n",
    "    xlabel=\"Movie title\",\n",
    "    title=\"Average rating for the 10 most rated movies\",\n",
    "    ylim=(0, 5)\n",
    ")\n",
    "ax.spines[[\"top\", \"right\"]].set_visible(False)\n",
    "ax.spines[[\"bottom\", \"left\"]].set_color(\"gray\")\n",
    "ax.tick_params(colors=\"gray\")\n",
    "ax.set_xticklabels(title, rotation=90)"
   ]
  },
  {
   "cell_type": "markdown",
   "metadata": {},
   "source": [
    "## 1.2 Skapa gles matris\n",
    "\n",
    "Jag bestämde mig för att det verkade vettigt att först sortera bort användare och filmer som gett, respektive fått, få ratings"
   ]
  },
  {
   "cell_type": "code",
   "execution_count": 21,
   "metadata": {},
   "outputs": [
    {
     "name": "stdout",
     "output_type": "stream",
     "text": [
      "<class 'pandas.core.frame.DataFrame'>\n",
      "Index: 30064010 entries, 0 to 33832161\n",
      "Data columns (total 3 columns):\n",
      " #   Column   Dtype  \n",
      "---  ------   -----  \n",
      " 0   userId   int32  \n",
      " 1   movieId  int32  \n",
      " 2   rating   float32\n",
      "dtypes: float32(1), int32(2)\n",
      "memory usage: 573.4 MB\n"
     ]
    }
   ],
   "source": [
    "# suggested sorting by treshold of value counts from https://stackoverflow.com/questions/67006008/pandas-how-to-get-the-value-counts-above-a-threshold\n",
    "# made a treshold to only include ratings from userIds with a combined 50 ratings or more\n",
    "df_ratings_users = df_ratings[df_ratings.groupby(\"userId\")[\"userId\"].transform('size')>50]\n",
    "df_ratings_users.info()"
   ]
  },
  {
   "cell_type": "code",
   "execution_count": 22,
   "metadata": {},
   "outputs": [
    {
     "data": {
      "text/plain": [
       "((4352,), (26613821, 3))"
      ]
     },
     "execution_count": 22,
     "metadata": {},
     "output_type": "execute_result"
    }
   ],
   "source": [
    "# a treshold of at least 1000 ratings seemed to still include a solid amount of movies\n",
    "df_ratings_adjusted = df_ratings_users[df_ratings_users.groupby(\"movieId\")[\"movieId\"].transform('size')>1000]\n",
    "df_ratings_adjusted[\"movieId\"].unique().shape, df_ratings_adjusted.shape"
   ]
  },
  {
   "cell_type": "code",
   "execution_count": 23,
   "metadata": {},
   "outputs": [
    {
     "name": "stdout",
     "output_type": "stream",
     "text": [
      "<class 'pandas.core.frame.DataFrame'>\n",
      "RangeIndex: 4352 entries, 0 to 4351\n",
      "Data columns (total 2 columns):\n",
      " #   Column   Non-Null Count  Dtype \n",
      "---  ------   --------------  ----- \n",
      " 0   movieId  4352 non-null   int32 \n",
      " 1   title    4352 non-null   object\n",
      "dtypes: int32(1), object(1)\n",
      "memory usage: 51.1+ KB\n"
     ]
    }
   ],
   "source": [
    "# how to make a mask to filter database from: https://saturncloud.io/blog/how-to-select-rows-from-a-dataframe-based-on-list-values-in-a-column-in-pandas/\n",
    "# mask used to filter movie database to only include movies with movieIds present in adjusted rating database\n",
    "mask = df_movies[\"movieId\"].isin(df_ratings_adjusted[\"movieId\"].unique())\n",
    "\n",
    "df_movies_adjusted = df_movies[mask].reset_index(drop=True)\n",
    "df_movies_adjusted.info()"
   ]
  },
  {
   "cell_type": "code",
   "execution_count": 24,
   "metadata": {},
   "outputs": [],
   "source": [
    "# pivot table made with adjusted ratings database \n",
    "movies_users=df_ratings_adjusted.pivot(index='movieId', columns='userId', values='rating').fillna(0)"
   ]
  },
  {
   "cell_type": "code",
   "execution_count": 25,
   "metadata": {},
   "outputs": [
    {
     "name": "stdout",
     "output_type": "stream",
     "text": [
      "<class 'pandas.core.frame.DataFrame'>\n",
      "Index: 4352 entries, 1 to 279812\n",
      "Columns: 128774 entries, 1 to 330975\n",
      "dtypes: float32(128774)\n",
      "memory usage: 2.1 GB\n"
     ]
    }
   ],
   "source": [
    "movies_users.info()"
   ]
  },
  {
   "cell_type": "code",
   "execution_count": 26,
   "metadata": {},
   "outputs": [],
   "source": [
    "# matrix made from pivot table\n",
    "mat_movies_users=csr_matrix(movies_users.values)"
   ]
  },
  {
   "cell_type": "markdown",
   "metadata": {},
   "source": [
    "## 1.3 Recommender system\n",
    "\n",
    "Det logiska fel jag upptäckte i videon är att när han skapar sin pivottabell\n",
    "så har den ett annorlunda antal rader jämfört med dataframe för filmer. Detta\n",
    "beror förmodligen på att dataframe för filmer innehåller ett antal filmer som\n",
    "inte har någon rating och därför inte dyker upp i dataframe för ratings samt \n",
    "saknas när han använder movieId som index för sin pivottabell. I sin tur\n",
    "innebär det att från och med indexet för den första filmen som existerar endast\n",
    "i film dataframen så blir det en missanpassning mellan denna och den glesa matrisen.\n",
    "Det är detta som orsakar att han får \"'night Mother\" som första resultat när han\n",
    "söker efter liknande filmer till \"Toy Story\", den faktiska filmen som modellen\n",
    "vill peka mot är egentligen \"Toy Story 2\" som har index 2353 i matrisen men 2355\n",
    "i dataframen. I min version så har jag filtrerat för att endast inkludera filmer\n",
    "som har ratings och stöter därför inte på samma problem."
   ]
  },
  {
   "cell_type": "code",
   "execution_count": 27,
   "metadata": {},
   "outputs": [],
   "source": [
    "# model for knn, I found euclidean to give better results than cosine generally\n",
    "model_knn = NearestNeighbors(metric=\"euclidean\", algorithm=\"brute\", n_neighbors=20)"
   ]
  },
  {
   "cell_type": "code",
   "execution_count": 28,
   "metadata": {},
   "outputs": [],
   "source": [
    "# slightly adjusted recommender function where it now won't print out any of the details of the search movie amongst similar movies\n",
    "def recommender(idx, data, model, n_recommendations=5):\n",
    "    model.fit(data)\n",
    "    # idx = process.extractOne(movie_name, df_movies_adjusted[\"title\"])[2]\n",
    "    print(\"Movie Selected: \", df_movies_adjusted[\"title\"][idx], \"Index: \", idx)\n",
    "    print(\n",
    "        \"--------------------------------\\nSearching for recommendations...\\n--------------------------------\"\n",
    "    )\n",
    "    distances, indices = model.kneighbors(data[idx], n_neighbors=n_recommendations+1)\n",
    "    print(f\"{n_recommendations} movies most similar to '{df_movies_adjusted['title'][idx]}' according to user reviews:\")\n",
    "    for i, d in zip(indices, distances):\n",
    "        for index, distance in zip(i, d):\n",
    "            if index != idx:\n",
    "                print(\n",
    "                    f\"{df_movies_adjusted['title'][index]}, distance: {round(distance)}\"\n",
    "                )\n",
    "\n",
    "\n",
    "# recommender(\"Doom (2005)\", mat_movies_users, model_knn, 10)"
   ]
  },
  {
   "cell_type": "code",
   "execution_count": 29,
   "metadata": {},
   "outputs": [],
   "source": [
    "# made separate function for choosing movie where you can pick 1 of 5 most likely options based on user input (didn't bother with error handling)\n",
    "def choose_movie():\n",
    "    user_input = input(\"Please enter the name of a movie:\")\n",
    "    choices = process.extract(user_input, df_movies_adjusted[\"title\"], limit=5)\n",
    "    print(f\"Top 5 results for query: '{user_input}'\")\n",
    "    for c, i in zip(choices, range(1, 6)):\n",
    "        print(i, c[0])\n",
    "    user_input = input(\"Choose movie (1-5): \")\n",
    "    return choices[int(user_input)-1][2]"
   ]
  },
  {
   "cell_type": "markdown",
   "metadata": {},
   "source": [
    "### Test runs"
   ]
  },
  {
   "cell_type": "code",
   "execution_count": 30,
   "metadata": {},
   "outputs": [
    {
     "name": "stdout",
     "output_type": "stream",
     "text": [
      "Top 5 results for query: 'rocky'\n",
      "1 Rocky (1976)\n",
      "2 Rocky II (1979)\n",
      "3 Rocky III (1982)\n",
      "4 Rocky IV (1985)\n",
      "5 Rocky V (1990)\n",
      "Movie Selected:  Rocky (1976) Index:  1041\n",
      "--------------------------------\n",
      "Searching for recommendations...\n",
      "--------------------------------\n",
      "5 movies most similar to 'Rocky (1976)' according to user reviews:\n",
      "Rocky II (1979), distance: 473\n",
      "Rocky III (1982), distance: 492\n",
      "Rocky IV (1985), distance: 499\n",
      "First Blood (Rambo: First Blood) (1982), distance: 509\n",
      "Rocky V (1990), distance: 519\n"
     ]
    }
   ],
   "source": [
    "movie_pick = choose_movie()\n",
    "recommender(movie_pick , mat_movies_users, model_knn)"
   ]
  },
  {
   "cell_type": "code",
   "execution_count": 31,
   "metadata": {},
   "outputs": [
    {
     "name": "stdout",
     "output_type": "stream",
     "text": [
      "Top 5 results for query: 'shrek'\n",
      "1 Shrek (2001)\n",
      "2 Shrek 2 (2004)\n",
      "3 Shrek the Third (2007)\n",
      "4 Swimming with Sharks (1995)\n",
      "5 Shark Tale (2004)\n",
      "Movie Selected:  Shrek the Third (2007) Index:  3184\n",
      "--------------------------------\n",
      "Searching for recommendations...\n",
      "--------------------------------\n",
      "5 movies most similar to 'Shrek the Third (2007)' according to user reviews:\n",
      "Shrek Forever After (a.k.a. Shrek: The Final Chapter) (2010), distance: 218\n",
      "Open Season (2006), distance: 239\n",
      "Epic Movie (2007), distance: 240\n",
      "Alvin and the Chipmunks (2007), distance: 241\n",
      "Meet the Spartans (2008), distance: 242\n"
     ]
    }
   ],
   "source": [
    "movie_pick = choose_movie()\n",
    "recommender(movie_pick , mat_movies_users, model_knn)"
   ]
  },
  {
   "cell_type": "code",
   "execution_count": 32,
   "metadata": {},
   "outputs": [
    {
     "name": "stdout",
     "output_type": "stream",
     "text": [
      "Top 5 results for query: 'dracula'\n",
      "1 Dracula: Dead and Loving It (1995)\n",
      "2 Dracula (Bram Stoker's Dracula) (1992)\n",
      "3 Dracula (1931)\n",
      "4 Dracula 2000 (2000)\n",
      "5 Dracula Untold (2014)\n",
      "Movie Selected:  Dracula (1931) Index:  1448\n",
      "--------------------------------\n",
      "Searching for recommendations...\n",
      "--------------------------------\n",
      "5 movies most similar to 'Dracula (1931)' according to user reviews:\n",
      "Wolf Man, The (1941), distance: 171\n",
      "Mummy, The (1932), distance: 189\n",
      "Creature from the Black Lagoon, The (1954), distance: 191\n",
      "House on Haunted Hill (1959), distance: 192\n",
      "Exorcist II: The Heretic (1977), distance: 193\n"
     ]
    }
   ],
   "source": [
    "movie_pick = choose_movie()\n",
    "recommender(movie_pick , mat_movies_users, model_knn)"
   ]
  },
  {
   "cell_type": "code",
   "execution_count": 33,
   "metadata": {},
   "outputs": [
    {
     "name": "stdout",
     "output_type": "stream",
     "text": [
      "Top 5 results for query: 'blades of glory'\n",
      "1 Blades of Glory (2007)\n",
      "2 Father of the Bride Part II (1995)\n",
      "3 City of Lost Children, The (Cité des enfants perdus, La) (1995)\n",
      "4 Bridges of Madison County, The (1995)\n",
      "5 Beauty of the Day (Belle de jour) (1967)\n",
      "Movie Selected:  Blades of Glory (2007) Index:  3168\n",
      "--------------------------------\n",
      "Searching for recommendations...\n",
      "--------------------------------\n",
      "5 movies most similar to 'Blades of Glory (2007)' according to user reviews:\n",
      "Semi-Pro (2008), distance: 199\n",
      "Epic Movie (2007), distance: 210\n",
      "Date Movie (2006), distance: 210\n",
      "Year One (2009), distance: 211\n",
      "Meet the Spartans (2008), distance: 212\n"
     ]
    }
   ],
   "source": [
    "movie_pick = choose_movie()\n",
    "recommender(movie_pick , mat_movies_users, model_knn)"
   ]
  },
  {
   "cell_type": "markdown",
   "metadata": {},
   "source": [
    "### a)\n",
    "\n",
    "Mitt system fungerar genom att användaren får skriva in namnet på en film som en sökterm. Därefter används funktionen process.extract från modulen \"fuzzywuzzy\" för att hämta ut och lista 5 resultat från en dataframe med filmer som bäst matchar söktermen. Användaren kan därpå välja en av dessa 5 filmer varpå dess index plockas för att hitta andra filmer som ska likna denna baserat på användarratings. Indexet som matchar det för samma film i en gles matris med användare och ratings används då för att jämföra avstånd från denna gentemot alla andra filmer som punkter i en NearestNeighbor modell och plocka ut index och avstånd för ett antal mest närliggande punkter via funktionen kneighbors. De utplockade indexen matchas sedan återigen mot dataframen med filmer för att få ut filmtitlar som listas upp i ordning efter vilken som beräknades ha kortast avstånd till den tidigare valda filmen."
   ]
  },
  {
   "cell_type": "markdown",
   "metadata": {},
   "source": [
    "### b) \n",
    "\n",
    "Vanligtvis är rekommenderarsystem någon typ av artificiell intelligens och/eller algoritm som används för ge förslag till användare baserat på olika kriterier. Systemen kan sedan använda data från hur användare interagerar med dem för att vidare tränas och få en förståelse för preferenser och egenskaper hos dessa. Denna fördjupade kunskap gör att systemen ofta kan ge förslag och rekommendationer på en väldigt personlig nivå vilket ofta kan vara gynnande. Hur och vilken data som samlas in kan variera beroende på vilken typ av rekommendationer som ska ges, för en hemsida som Youtube skulle det exempelvis kunna vara vilka videor användare ger en \"like\" eller \"dislike\" till.\n",
    "\n",
    "Det finns många olika exempel på typer av rekommenderarsystem, några av dem kan kategoriseras som: \n",
    "\n",
    "\"Collaborative Filtering\" jämfor preferenser och intressen mellan stora mängder användare samt tidigare beteenden hos dessa för att förutspå framtida interaktioner. Tanken med detta är att användare som liknar varandra och visat liknande beteende bör vara mottagliga för liknande förslag.\n",
    "\n",
    "\"Content Filtering\" använder egenskaper hos det som rekommenderas för att jämföra dessa mot saker som användare har visat intresse för tidigare. Exempelvis så skulle en film från en specifik genre kunna rekommenderas om användaren tidigare sett många sådana filmer.\n",
    "\n",
    "\"Context filtering\" använder information om den kontext användare befinner sig i. Till exempelvis vilken tid på dagen det är, var användaren befinner sig, vilken typ av enhet som används osv. Därmed så får användare mer liknande rekommendationer beroende på vilka kontextuella kriterier de delar.\n",
    "\n",
    "Mer komplicerade system kan även använda kombinationer av dessa.\n",
    "\n",
    "Många stora företag använder rekommenderarsystem för att mer effektivt kunna föreslå produkter för sina användare. På grund av lönsamheten av detta så sker det ett ständigt arbete för att förbättra och utveckla dessa system vidare.\n",
    "\n",
    "Källor:\n",
    "\n",
    "https://www.nvidia.com/en-us/glossary/recommendation-system/\n",
    "\n",
    "https://medium.com/@khang.pham.exxact/what-are-recommendation-systems-6bb5036042db"
   ]
  },
  {
   "cell_type": "code",
   "execution_count": null,
   "metadata": {},
   "outputs": [],
   "source": []
  }
 ],
 "metadata": {
  "kernelspec": {
   "display_name": "venv",
   "language": "python",
   "name": "python3"
  },
  "language_info": {
   "codemirror_mode": {
    "name": "ipython",
    "version": 3
   },
   "file_extension": ".py",
   "mimetype": "text/x-python",
   "name": "python",
   "nbconvert_exporter": "python",
   "pygments_lexer": "ipython3",
   "version": "3.11.7"
  }
 },
 "nbformat": 4,
 "nbformat_minor": 2
}
