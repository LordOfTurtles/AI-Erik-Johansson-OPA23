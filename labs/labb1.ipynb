{
 "cells": [
  {
   "cell_type": "markdown",
   "metadata": {},
   "source": [
    "# Laboration maskininlärning AI22"
   ]
  },
  {
   "cell_type": "markdown",
   "metadata": {},
   "source": [
    "## 1.0 - Uppvärmning\n",
    "recommender_test.ipynb"
   ]
  },
  {
   "cell_type": "markdown",
   "metadata": {},
   "source": [
    "## 1.1 - Movielens full - EDA"
   ]
  },
  {
   "cell_type": "code",
   "execution_count": 1,
   "metadata": {},
   "outputs": [
    {
     "name": "stderr",
     "output_type": "stream",
     "text": [
      "y:\\Skola\\OOP\\Skolarbete\\AI-Erik-Johansson-OPA23\\venv\\Lib\\site-packages\\fuzzywuzzy\\fuzz.py:11: UserWarning: Using slow pure-python SequenceMatcher. Install python-Levenshtein to remove this warning\n",
      "  warnings.warn('Using slow pure-python SequenceMatcher. Install python-Levenshtein to remove this warning')\n"
     ]
    }
   ],
   "source": [
    "import pandas as pd\n",
    "from scipy.sparse import csr_matrix\n",
    "from sklearn.neighbors import NearestNeighbors\n",
    "from fuzzywuzzy import process"
   ]
  },
  {
   "cell_type": "code",
   "execution_count": 2,
   "metadata": {},
   "outputs": [],
   "source": [
    "movies='data/large/movies.csv'\n",
    "ratings='data/large/ratings.csv'\n",
    "\n",
    "df_movies=pd.read_csv(movies, usecols=['movieId', 'title'], dtype={'movieId' : 'int32', 'title' : 'str'})\n",
    "df_ratings=pd.read_csv(ratings, usecols=['userId', 'movieId', 'rating'], dtype={'userId':'int32', 'movieId':'int32', 'rating':'float32'})"
   ]
  },
  {
   "cell_type": "markdown",
   "metadata": {},
   "source": [
    "### a)"
   ]
  },
  {
   "cell_type": "code",
   "execution_count": 3,
   "metadata": {},
   "outputs": [
    {
     "data": {
      "text/html": [
       "<div>\n",
       "<style scoped>\n",
       "    .dataframe tbody tr th:only-of-type {\n",
       "        vertical-align: middle;\n",
       "    }\n",
       "\n",
       "    .dataframe tbody tr th {\n",
       "        vertical-align: top;\n",
       "    }\n",
       "\n",
       "    .dataframe thead th {\n",
       "        text-align: right;\n",
       "    }\n",
       "</style>\n",
       "<table border=\"1\" class=\"dataframe\">\n",
       "  <thead>\n",
       "    <tr style=\"text-align: right;\">\n",
       "      <th></th>\n",
       "      <th>movieId</th>\n",
       "      <th>title</th>\n",
       "    </tr>\n",
       "  </thead>\n",
       "  <tbody>\n",
       "    <tr>\n",
       "      <th>0</th>\n",
       "      <td>1</td>\n",
       "      <td>Toy Story (1995)</td>\n",
       "    </tr>\n",
       "    <tr>\n",
       "      <th>1</th>\n",
       "      <td>2</td>\n",
       "      <td>Jumanji (1995)</td>\n",
       "    </tr>\n",
       "    <tr>\n",
       "      <th>2</th>\n",
       "      <td>3</td>\n",
       "      <td>Grumpier Old Men (1995)</td>\n",
       "    </tr>\n",
       "    <tr>\n",
       "      <th>3</th>\n",
       "      <td>4</td>\n",
       "      <td>Waiting to Exhale (1995)</td>\n",
       "    </tr>\n",
       "    <tr>\n",
       "      <th>4</th>\n",
       "      <td>5</td>\n",
       "      <td>Father of the Bride Part II (1995)</td>\n",
       "    </tr>\n",
       "  </tbody>\n",
       "</table>\n",
       "</div>"
      ],
      "text/plain": [
       "   movieId                               title\n",
       "0        1                    Toy Story (1995)\n",
       "1        2                      Jumanji (1995)\n",
       "2        3             Grumpier Old Men (1995)\n",
       "3        4            Waiting to Exhale (1995)\n",
       "4        5  Father of the Bride Part II (1995)"
      ]
     },
     "execution_count": 3,
     "metadata": {},
     "output_type": "execute_result"
    }
   ],
   "source": [
    "df_movies.head()"
   ]
  },
  {
   "cell_type": "code",
   "execution_count": 4,
   "metadata": {},
   "outputs": [
    {
     "name": "stdout",
     "output_type": "stream",
     "text": [
      "<class 'pandas.core.frame.DataFrame'>\n",
      "RangeIndex: 86537 entries, 0 to 86536\n",
      "Data columns (total 2 columns):\n",
      " #   Column   Non-Null Count  Dtype \n",
      "---  ------   --------------  ----- \n",
      " 0   movieId  86537 non-null  int32 \n",
      " 1   title    86537 non-null  object\n",
      "dtypes: int32(1), object(1)\n",
      "memory usage: 1014.2+ KB\n"
     ]
    }
   ],
   "source": [
    "df_movies.info()"
   ]
  },
  {
   "cell_type": "code",
   "execution_count": 5,
   "metadata": {},
   "outputs": [
    {
     "data": {
      "text/html": [
       "<div>\n",
       "<style scoped>\n",
       "    .dataframe tbody tr th:only-of-type {\n",
       "        vertical-align: middle;\n",
       "    }\n",
       "\n",
       "    .dataframe tbody tr th {\n",
       "        vertical-align: top;\n",
       "    }\n",
       "\n",
       "    .dataframe thead th {\n",
       "        text-align: right;\n",
       "    }\n",
       "</style>\n",
       "<table border=\"1\" class=\"dataframe\">\n",
       "  <thead>\n",
       "    <tr style=\"text-align: right;\">\n",
       "      <th></th>\n",
       "      <th>userId</th>\n",
       "      <th>movieId</th>\n",
       "      <th>rating</th>\n",
       "    </tr>\n",
       "  </thead>\n",
       "  <tbody>\n",
       "    <tr>\n",
       "      <th>0</th>\n",
       "      <td>1</td>\n",
       "      <td>1</td>\n",
       "      <td>4.0</td>\n",
       "    </tr>\n",
       "    <tr>\n",
       "      <th>1</th>\n",
       "      <td>1</td>\n",
       "      <td>110</td>\n",
       "      <td>4.0</td>\n",
       "    </tr>\n",
       "    <tr>\n",
       "      <th>2</th>\n",
       "      <td>1</td>\n",
       "      <td>158</td>\n",
       "      <td>4.0</td>\n",
       "    </tr>\n",
       "    <tr>\n",
       "      <th>3</th>\n",
       "      <td>1</td>\n",
       "      <td>260</td>\n",
       "      <td>4.5</td>\n",
       "    </tr>\n",
       "    <tr>\n",
       "      <th>4</th>\n",
       "      <td>1</td>\n",
       "      <td>356</td>\n",
       "      <td>5.0</td>\n",
       "    </tr>\n",
       "  </tbody>\n",
       "</table>\n",
       "</div>"
      ],
      "text/plain": [
       "   userId  movieId  rating\n",
       "0       1        1     4.0\n",
       "1       1      110     4.0\n",
       "2       1      158     4.0\n",
       "3       1      260     4.5\n",
       "4       1      356     5.0"
      ]
     },
     "execution_count": 5,
     "metadata": {},
     "output_type": "execute_result"
    }
   ],
   "source": [
    "df_ratings.head()"
   ]
  },
  {
   "cell_type": "code",
   "execution_count": 6,
   "metadata": {},
   "outputs": [
    {
     "data": {
      "text/plain": [
       "count    3.383216e+07\n",
       "mean     2.831348e+04\n",
       "std      4.992865e+04\n",
       "min      1.000000e+00\n",
       "25%      1.219000e+03\n",
       "50%      3.263000e+03\n",
       "75%      4.049100e+04\n",
       "max      2.889830e+05\n",
       "Name: movieId, dtype: float64"
      ]
     },
     "execution_count": 6,
     "metadata": {},
     "output_type": "execute_result"
    }
   ],
   "source": [
    "df_ratings[\"movieId\"].describe()"
   ]
  },
  {
   "cell_type": "code",
   "execution_count": 7,
   "metadata": {},
   "outputs": [
    {
     "name": "stdout",
     "output_type": "stream",
     "text": [
      "<class 'pandas.core.frame.DataFrame'>\n",
      "RangeIndex: 33832162 entries, 0 to 33832161\n",
      "Data columns (total 3 columns):\n",
      " #   Column   Dtype  \n",
      "---  ------   -----  \n",
      " 0   userId   int32  \n",
      " 1   movieId  int32  \n",
      " 2   rating   float32\n",
      "dtypes: float32(1), int32(2)\n",
      "memory usage: 387.2 MB\n"
     ]
    }
   ],
   "source": [
    "df_ratings.info()"
   ]
  },
  {
   "cell_type": "code",
   "execution_count": 8,
   "metadata": {},
   "outputs": [
    {
     "data": {
      "text/plain": [
       "userId\n",
       "189614    33332\n",
       "48766      9554\n",
       "207216     9178\n",
       "175998     9016\n",
       "76618      8919\n",
       "230765     7719\n",
       "184775     7535\n",
       "236260     7488\n",
       "233891     7372\n",
       "214831     7266\n",
       "Name: count, dtype: int64"
      ]
     },
     "execution_count": 8,
     "metadata": {},
     "output_type": "execute_result"
    }
   ],
   "source": [
    "df_ratings[\"userId\"].value_counts()[:10]"
   ]
  },
  {
   "cell_type": "markdown",
   "metadata": {},
   "source": [
    "### b)"
   ]
  },
  {
   "cell_type": "code",
   "execution_count": 9,
   "metadata": {},
   "outputs": [
    {
     "data": {
      "text/plain": [
       "movieId\n",
       "318     122296\n",
       "356     113581\n",
       "296     108756\n",
       "2571    107056\n",
       "593     101802\n",
       "260      97202\n",
       "2959     86207\n",
       "527      84232\n",
       "480      83026\n",
       "1196     80200\n",
       "Name: count, dtype: int64"
      ]
     },
     "execution_count": 9,
     "metadata": {},
     "output_type": "execute_result"
    }
   ],
   "source": [
    "df_ratings[\"movieId\"].value_counts()[:10]"
   ]
  },
  {
   "cell_type": "code",
   "execution_count": 10,
   "metadata": {},
   "outputs": [
    {
     "data": {
      "text/plain": [
       "[318, 356, 296, 2571, 593, 260, 2959, 527, 480, 1196]"
      ]
     },
     "execution_count": 10,
     "metadata": {},
     "output_type": "execute_result"
    }
   ],
   "source": [
    "most_rated = df_ratings[\"movieId\"].value_counts()[:10].index.to_list()\n",
    "most_rated"
   ]
  },
  {
   "cell_type": "code",
   "execution_count": 11,
   "metadata": {},
   "outputs": [
    {
     "name": "stdout",
     "output_type": "stream",
     "text": [
      "Top 10 movies by number of ratings:\n",
      "Shawshank Redemption, The (1994)\n",
      "Forrest Gump (1994)\n",
      "Pulp Fiction (1994)\n",
      "Matrix, The (1999)\n",
      "Silence of the Lambs, The (1991)\n",
      "Star Wars: Episode IV - A New Hope (1977)\n",
      "Fight Club (1999)\n",
      "Schindler's List (1993)\n",
      "Jurassic Park (1993)\n",
      "Star Wars: Episode V - The Empire Strikes Back (1980)\n"
     ]
    }
   ],
   "source": [
    "print(\"Top 10 movies by number of ratings:\")\n",
    "for m in most_rated:\n",
    "    print(df_movies[df_movies[\"movieId\"] == m][\"title\"].values[0])"
   ]
  },
  {
   "cell_type": "markdown",
   "metadata": {},
   "source": [
    "### c)"
   ]
  },
  {
   "cell_type": "code",
   "execution_count": 12,
   "metadata": {},
   "outputs": [
    {
     "name": "stdout",
     "output_type": "stream",
     "text": [
      "Average rating for top 10 most rated movies:\n",
      "Shawshank Redemption, The (1994) Rating:  4.42\n",
      "Forrest Gump (1994) Rating:  4.07\n",
      "Pulp Fiction (1994) Rating:  4.19\n",
      "Matrix, The (1999) Rating:  4.16\n",
      "Silence of the Lambs, The (1991) Rating:  4.15\n",
      "Star Wars: Episode IV - A New Hope (1977) Rating:  4.09\n",
      "Fight Club (1999) Rating:  4.24\n",
      "Schindler's List (1993) Rating:  4.24\n",
      "Jurassic Park (1993) Rating:  3.69\n",
      "Star Wars: Episode V - The Empire Strikes Back (1980) Rating:  4.12\n"
     ]
    }
   ],
   "source": [
    "print(\"Average rating for top 10 most rated movies:\")\n",
    "for m in most_rated:\n",
    "    print(df_movies[df_movies[\"movieId\"] == m][\"title\"].values[0],\"Rating: \", round(df_ratings[df_ratings[\"movieId\"] == m][\"rating\"].mean(), 2))"
   ]
  },
  {
   "cell_type": "markdown",
   "metadata": {},
   "source": [
    "### d)"
   ]
  },
  {
   "cell_type": "code",
   "execution_count": 13,
   "metadata": {},
   "outputs": [
    {
     "data": {
      "text/plain": [
       "[1, 0, 0, 0, 2]"
      ]
     },
     "execution_count": 13,
     "metadata": {},
     "output_type": "execute_result"
    }
   ],
   "source": [
    "years = range(1874, 2024)\n",
    "films_per_year = [df_movies[df_movies[\"title\"].str.contains(f\"({y})\", regex=False)][\"movieId\"].count() for y in years]\n",
    "films_per_year[:5]"
   ]
  },
  {
   "cell_type": "code",
   "execution_count": 14,
   "metadata": {},
   "outputs": [
    {
     "data": {
      "text/html": [
       "<div>\n",
       "<style scoped>\n",
       "    .dataframe tbody tr th:only-of-type {\n",
       "        vertical-align: middle;\n",
       "    }\n",
       "\n",
       "    .dataframe tbody tr th {\n",
       "        vertical-align: top;\n",
       "    }\n",
       "\n",
       "    .dataframe thead th {\n",
       "        text-align: right;\n",
       "    }\n",
       "</style>\n",
       "<table border=\"1\" class=\"dataframe\">\n",
       "  <thead>\n",
       "    <tr style=\"text-align: right;\">\n",
       "      <th></th>\n",
       "      <th>movieId</th>\n",
       "      <th>title</th>\n",
       "    </tr>\n",
       "  </thead>\n",
       "  <tbody>\n",
       "    <tr>\n",
       "      <th>23423</th>\n",
       "      <td>117909</td>\n",
       "      <td>The Kiss (1900)</td>\n",
       "    </tr>\n",
       "    <tr>\n",
       "      <th>37918</th>\n",
       "      <td>152908</td>\n",
       "      <td>Panorama of Eiffel Tower (1900)</td>\n",
       "    </tr>\n",
       "    <tr>\n",
       "      <th>37919</th>\n",
       "      <td>152910</td>\n",
       "      <td>Eiffel Tower from Trocadero Palace (1900)</td>\n",
       "    </tr>\n",
       "    <tr>\n",
       "      <th>37920</th>\n",
       "      <td>152912</td>\n",
       "      <td>Palace of Electricity (1900)</td>\n",
       "    </tr>\n",
       "    <tr>\n",
       "      <th>37921</th>\n",
       "      <td>152914</td>\n",
       "      <td>Champs de Mars (1900)</td>\n",
       "    </tr>\n",
       "  </tbody>\n",
       "</table>\n",
       "</div>"
      ],
      "text/plain": [
       "       movieId                                      title\n",
       "23423   117909                            The Kiss (1900)\n",
       "37918   152908            Panorama of Eiffel Tower (1900)\n",
       "37919   152910  Eiffel Tower from Trocadero Palace (1900)\n",
       "37920   152912               Palace of Electricity (1900)\n",
       "37921   152914                      Champs de Mars (1900)"
      ]
     },
     "execution_count": 14,
     "metadata": {},
     "output_type": "execute_result"
    }
   ],
   "source": [
    "df_movies[df_movies[\"title\"].str.contains(f\"({1900})\", regex=False)][:5]"
   ]
  },
  {
   "cell_type": "code",
   "execution_count": 15,
   "metadata": {},
   "outputs": [
    {
     "data": {
      "image/png": "[encoded data removed]",
      "text/plain": [
       "<Figure size 640x480 with 1 Axes>"
      ]
     },
     "metadata": {},
     "output_type": "display_data"
    }
   ],
   "source": [
    "import seaborn as sns\n",
    "\n",
    "ax = sns.lineplot(x=years, y=films_per_year)\n",
    "ax.set(\n",
    "    ylabel=\"Number of movies\",\n",
    "    xlabel=\"Release year\",\n",
    "    title=\"Number of movies per release year in movielens database\\n(1874-2023)\",\n",
    "    ylim=(0, 3500),\n",
    ")\n",
    "ax.spines[[\"top\", \"right\"]].set_visible(False)\n",
    "ax.spines[[\"top\", \"right\"]].set_visible(False)\n",
    "ax.spines[[\"bottom\", \"left\"]].set_color(\"gray\")\n",
    "ax.tick_params(colors=\"gray\")"
   ]
  },
  {
   "cell_type": "markdown",
   "metadata": {},
   "source": [
    "### e)"
   ]
  },
  {
   "cell_type": "code",
   "execution_count": 16,
   "metadata": {},
   "outputs": [
    {
     "data": {
      "text/html": [
       "<div>\n",
       "<style scoped>\n",
       "    .dataframe tbody tr th:only-of-type {\n",
       "        vertical-align: middle;\n",
       "    }\n",
       "\n",
       "    .dataframe tbody tr th {\n",
       "        vertical-align: top;\n",
       "    }\n",
       "\n",
       "    .dataframe thead th {\n",
       "        text-align: right;\n",
       "    }\n",
       "</style>\n",
       "<table border=\"1\" class=\"dataframe\">\n",
       "  <thead>\n",
       "    <tr style=\"text-align: right;\">\n",
       "      <th></th>\n",
       "      <th>movieId</th>\n",
       "      <th>ratings</th>\n",
       "    </tr>\n",
       "  </thead>\n",
       "  <tbody>\n",
       "    <tr>\n",
       "      <th>0</th>\n",
       "      <td>318</td>\n",
       "      <td>122296</td>\n",
       "    </tr>\n",
       "    <tr>\n",
       "      <th>1</th>\n",
       "      <td>356</td>\n",
       "      <td>113581</td>\n",
       "    </tr>\n",
       "    <tr>\n",
       "      <th>2</th>\n",
       "      <td>296</td>\n",
       "      <td>108756</td>\n",
       "    </tr>\n",
       "    <tr>\n",
       "      <th>3</th>\n",
       "      <td>2571</td>\n",
       "      <td>107056</td>\n",
       "    </tr>\n",
       "    <tr>\n",
       "      <th>4</th>\n",
       "      <td>593</td>\n",
       "      <td>101802</td>\n",
       "    </tr>\n",
       "  </tbody>\n",
       "</table>\n",
       "</div>"
      ],
      "text/plain": [
       "   movieId  ratings\n",
       "0      318   122296\n",
       "1      356   113581\n",
       "2      296   108756\n",
       "3     2571   107056\n",
       "4      593   101802"
      ]
     },
     "execution_count": 16,
     "metadata": {},
     "output_type": "execute_result"
    }
   ],
   "source": [
    "rated_movieIds = df_ratings[\"movieId\"].value_counts().index.to_numpy()\n",
    "number_ratings = df_ratings[\"movieId\"].value_counts().to_numpy()\n",
    "\n",
    "df_ratings_per_movie = pd.DataFrame({\"movieId\": rated_movieIds, \"ratings\": number_ratings})\n",
    "df_ratings_per_movie.head()"
   ]
  },
  {
   "cell_type": "code",
   "execution_count": 17,
   "metadata": {},
   "outputs": [
    {
     "data": {
      "text/html": [
       "<div>\n",
       "<style scoped>\n",
       "    .dataframe tbody tr th:only-of-type {\n",
       "        vertical-align: middle;\n",
       "    }\n",
       "\n",
       "    .dataframe tbody tr th {\n",
       "        vertical-align: top;\n",
       "    }\n",
       "\n",
       "    .dataframe thead th {\n",
       "        text-align: right;\n",
       "    }\n",
       "</style>\n",
       "<table border=\"1\" class=\"dataframe\">\n",
       "  <thead>\n",
       "    <tr style=\"text-align: right;\">\n",
       "      <th></th>\n",
       "      <th>movieId</th>\n",
       "      <th>ratings</th>\n",
       "    </tr>\n",
       "  </thead>\n",
       "  <tbody>\n",
       "    <tr>\n",
       "      <th>0</th>\n",
       "      <td>1</td>\n",
       "      <td>76813</td>\n",
       "    </tr>\n",
       "    <tr>\n",
       "      <th>1</th>\n",
       "      <td>2</td>\n",
       "      <td>30209</td>\n",
       "    </tr>\n",
       "    <tr>\n",
       "      <th>2</th>\n",
       "      <td>3</td>\n",
       "      <td>15820</td>\n",
       "    </tr>\n",
       "    <tr>\n",
       "      <th>3</th>\n",
       "      <td>4</td>\n",
       "      <td>3028</td>\n",
       "    </tr>\n",
       "    <tr>\n",
       "      <th>4</th>\n",
       "      <td>5</td>\n",
       "      <td>15801</td>\n",
       "    </tr>\n",
       "    <tr>\n",
       "      <th>5</th>\n",
       "      <td>6</td>\n",
       "      <td>31850</td>\n",
       "    </tr>\n",
       "    <tr>\n",
       "      <th>6</th>\n",
       "      <td>7</td>\n",
       "      <td>15596</td>\n",
       "    </tr>\n",
       "    <tr>\n",
       "      <th>7</th>\n",
       "      <td>8</td>\n",
       "      <td>1584</td>\n",
       "    </tr>\n",
       "    <tr>\n",
       "      <th>8</th>\n",
       "      <td>9</td>\n",
       "      <td>4563</td>\n",
       "    </tr>\n",
       "    <tr>\n",
       "      <th>9</th>\n",
       "      <td>10</td>\n",
       "      <td>34942</td>\n",
       "    </tr>\n",
       "  </tbody>\n",
       "</table>\n",
       "</div>"
      ],
      "text/plain": [
       "   movieId  ratings\n",
       "0        1    76813\n",
       "1        2    30209\n",
       "2        3    15820\n",
       "3        4     3028\n",
       "4        5    15801\n",
       "5        6    31850\n",
       "6        7    15596\n",
       "7        8     1584\n",
       "8        9     4563\n",
       "9       10    34942"
      ]
     },
     "execution_count": 17,
     "metadata": {},
     "output_type": "execute_result"
    }
   ],
   "source": [
    "df_ratings_per_movie = df_ratings_per_movie.sort_values(\"movieId\", ignore_index=True)\n",
    "df_ratings_per_movie.head(10)"
   ]
  },
  {
   "cell_type": "code",
   "execution_count": 18,
   "metadata": {},
   "outputs": [
    {
     "data": {
      "image/png": "[encoded data removed]",
      "text/plain": [
       "<Figure size 640x480 with 1 Axes>"
      ]
     },
     "metadata": {},
     "output_type": "display_data"
    }
   ],
   "source": [
    "# barplot did not work, maybe too many values?\n",
    "ax = sns.lineplot(df_ratings_per_movie, x=\"movieId\", y=\"ratings\")\n",
    "ax.set(\n",
    "    title=\"Number of ratings per movieId\",\n",
    "    ylim=(0, 130000),\n",
    ")\n",
    "ax.spines[[\"top\", \"right\"]].set_visible(False)\n",
    "ax.spines[[\"top\", \"right\"]].set_visible(False)\n",
    "ax.spines[[\"bottom\", \"left\"]].set_color(\"gray\")\n",
    "ax.tick_params(colors=\"gray\")"
   ]
  },
  {
   "cell_type": "markdown",
   "metadata": {},
   "source": [
    "### f)"
   ]
  },
  {
   "cell_type": "code",
   "execution_count": 19,
   "metadata": {},
   "outputs": [
    {
     "data": {
      "text/plain": [
       "(['Shawshank Redemption, The (1994)',\n",
       "  'Forrest Gump (1994)',\n",
       "  'Pulp Fiction (1994)',\n",
       "  'Matrix, The (1999)',\n",
       "  'Silence of the Lambs, The (1991)',\n",
       "  'Star Wars: Episode IV - A New Hope (1977)',\n",
       "  'Fight Club (1999)',\n",
       "  \"Schindler's List (1993)\",\n",
       "  'Jurassic Park (1993)',\n",
       "  'Star Wars: Episode V - The Empire Strikes Back (1980)'],\n",
       " [4.42, 4.07, 4.19, 4.16, 4.15, 4.09, 4.24, 4.24, 3.69, 4.12])"
      ]
     },
     "execution_count": 19,
     "metadata": {},
     "output_type": "execute_result"
    }
   ],
   "source": [
    "title = [df_movies[df_movies[\"movieId\"] == m][\"title\"].values[0] for m in most_rated]\n",
    "avg_rating = [round(df_ratings[df_ratings[\"movieId\"] == m][\"rating\"].mean(), 2) for m in most_rated]\n",
    "\n",
    "title, avg_rating"
   ]
  },
  {
   "cell_type": "code",
   "execution_count": 20,
   "metadata": {},
   "outputs": [
    {
     "name": "stderr",
     "output_type": "stream",
     "text": [
      "C:\\Users\\Erik\\AppData\\Local\\Temp\\ipykernel_18856\\915615419.py:11: UserWarning: set_ticklabels() should only be used with a fixed number of ticks, i.e. after set_ticks() or using a FixedLocator.\n",
      "  ax.set_xticklabels(title, rotation=90)\n"
     ]
    },
    {
     "data": {
      "text/plain": [
       "[Text(0, 0, 'Shawshank Redemption, The (1994)'),\n",
       " Text(1, 0, 'Forrest Gump (1994)'),\n",
       " Text(2, 0, 'Pulp Fiction (1994)'),\n",
       " Text(3, 0, 'Matrix, The (1999)'),\n",
       " Text(4, 0, 'Silence of the Lambs, The (1991)'),\n",
       " Text(5, 0, 'Star Wars: Episode IV - A New Hope (1977)'),\n",
       " Text(6, 0, 'Fight Club (1999)'),\n",
       " Text(7, 0, \"Schindler's List (1993)\"),\n",
       " Text(8, 0, 'Jurassic Park (1993)'),\n",
       " Text(9, 0, 'Star Wars: Episode V - The Empire Strikes Back (1980)')]"
      ]
     },
     "execution_count": 20,
     "metadata": {},
     "output_type": "execute_result"
    },
    {
     "data": {
      "image/png": "[encoded data removed]",
      "text/plain": [
       "<Figure size 640x480 with 1 Axes>"
      ]
     },
     "metadata": {},
     "output_type": "display_data"
    }
   ],
   "source": [
    "ax = sns.barplot(x=title, y=avg_rating)\n",
    "ax.set(\n",
    "    ylabel=\"average rating\",\n",
    "    xlabel=\"Movie title\",\n",
    "    title=\"Average rating for the 10 most rated movies\",\n",
    "    ylim=(0, 5)\n",
    ")\n",
    "ax.spines[[\"top\", \"right\"]].set_visible(False)\n",
    "ax.spines[[\"bottom\", \"left\"]].set_color(\"gray\")\n",
    "ax.tick_params(colors=\"gray\")\n",
    "ax.set_xticklabels(title, rotation=90)"
   ]
  },
  {
   "cell_type": "markdown",
   "metadata": {},
   "source": [
    "## 1.2 Skapa gles matris"
   ]
  },
  {
   "cell_type": "code",
   "execution_count": 26,
   "metadata": {},
   "outputs": [
    {
     "data": {
      "text/plain": [
       "movieId\n",
       "318     122296\n",
       "356     113581\n",
       "296     108756\n",
       "2571    107056\n",
       "593     101802\n",
       "260      97202\n",
       "2959     86207\n",
       "527      84232\n",
       "480      83026\n",
       "1196     80200\n",
       "Name: count, dtype: int64"
      ]
     },
     "execution_count": 26,
     "metadata": {},
     "output_type": "execute_result"
    }
   ],
   "source": [
    "df_ratings[\"movieId\"].value_counts()[:10]"
   ]
  },
  {
   "cell_type": "code",
   "execution_count": 40,
   "metadata": {},
   "outputs": [
    {
     "data": {
      "text/plain": [
       "((840,), (83239,))"
      ]
     },
     "execution_count": 40,
     "metadata": {},
     "output_type": "execute_result"
    }
   ],
   "source": [
    "# suggested sorting by treshold of value counts https://stackoverflow.com/questions/67006008/pandas-how-to-get-the-value-counts-above-a-threshold\n",
    "df_ratings_adjusted = df_ratings[df_ratings.groupby(\"movieId\")[\"movieId\"].transform('size')>10000]\n",
    "df_ratings_adjusted[\"movieId\"].unique().shape"
   ]
  },
  {
   "cell_type": "code",
   "execution_count": 50,
   "metadata": {},
   "outputs": [
    {
     "data": {
      "text/plain": [
       "array([     1,    110,    158,    260,    356,    596,   1036,   1196,\n",
       "         1200,   1210,   1214,   1291,   1293,   1376,   1396,   1909,\n",
       "         2028,   2085,   2336,   2571,   2671,   2762,   2804,   3578,\n",
       "         4246,   4306,   4886,   4896,   4993,   4995,   5952,   6539,\n",
       "         7153,   8533,   8644,   8961,  33166,  33794,  53996,      2,\n",
       "            6,     10,     11,     17,     19,     21,     25,     31,\n",
       "           34,     36,     39,     47,     48,     50,     52,     58,\n",
       "           95,    111,    141,    150,    151,    153,    160,    161,\n",
       "          165,    168,    172,    173,    185,    186,    208,    225,\n",
       "          231,    235,    236,    252,    253,    256,    261,    265,\n",
       "          266,    282,    288,    292,    293,    296,    300,    315,\n",
       "          317,    318,    333,    337,    339,    344,    349,    350,\n",
       "          357,    364,    367,    377,    380,    420,    432,    434,\n",
       "          440,    442,    454,    457,    480,    500,    509,    527,\n",
       "          539,    553,    586,    587,    588,    589,    590,    592,\n",
       "          593,    595,    597,    786,    858,   2959,   3114,   3751,\n",
       "         6377,  60069,  68954,  69844,  74458,  76093,  79132,  81834,\n",
       "        88125,  99114, 109487, 112556, 115617, 115713, 116797, 119145,\n",
       "       134853, 152081, 177765, 187593,   1097,   2324,   2858,   5618,\n",
       "         5995,   8368,  40815,  46578,  48394,  50872,  79091,    724,\n",
       "          778,   1193,   1213,   1220,   1358,   1370,   1466,   1513,\n",
       "         1721,   1961,   2692,   2997,   3160,   4226,    170,   1136,\n",
       "         1222,   1270,   1704,   1918,   1994,   2329,   2539,   2746,\n",
       "         3147,   3753,   4571,   5418,  44191,  58559,      3,     62,\n",
       "          145,    329,    370,    551,    585,    708,    736,    745,\n",
       "          805,    919,   1061,   1073,   1101,   1120,   1129,   1148,\n",
       "         1198,   1242,   1246,   1282,   1307,   1356,   1374,   1375,\n",
       "         1393,   1485,   1500,   1569,   1580,   1584,   1608,   1610,\n",
       "         1617,   1625,   1645,   1663,   1674,   1682,   1747,   1777,\n",
       "         1784,   1907,   1923,   2003,   2011,   2012,   2081,   2100,\n",
       "         2105,   2268,   2294,   2353,   2424,   2605,   2641,   2716,\n",
       "         2791,   2890,   3006,   3039,   3101,   3256,   3408,   3448,\n",
       "         3471,   3552,   3623,   3868,    345,    515,    899,      5,\n",
       "           22,    105,    163,    196,    216,    246,    316,    353,\n",
       "          355,    368,    376,    431,    466,    474,    485,    497,\n",
       "          508,    520,    529,    543,    555,    594,    648,    653,\n",
       "          733,    784,     32,    541,    750,    780,   1079,   1089,\n",
       "         1201,   1225,   1240,   1247,   1517,   1968,   2019,   2628,\n",
       "         2683,   2717,   3977,   3996,   4011,   4367,   4878,   4963,\n",
       "         5218,   5459,   5903,   6874,   7438,   8360,   8641,   8665,\n",
       "         8874,   8984,  30810,  32587,  33679,  34162,  34405,  41566,\n",
       "        46976,  47610,  48774,  49272,  49530,  51255,  51662,  53322,\n",
       "        54286,  56174,  59315,  59369,  59784,  60074,  60684,  63113,\n",
       "        68157,  68358,  72998,  73017,  76251,  77561,  84152,  85414,\n",
       "        86332,  88140,  89745,  91500,  91529,  91542,  91658,  94864,\n",
       "        96079,  96610, 102125, 102445, 102903, 104841, 109374, 111362,\n",
       "         1080,   1732,   2706,   5445,  48516, 106489, 112852, 122904,\n",
       "       134130,    104,    112,    494,    628,    673,    788,    802,\n",
       "          832,    849,   1059,   1367,   1391,   1183,   1197,   2140,\n",
       "         2161,   2193,   2761,  81845,    435,    616,    783,    923,\n",
       "         1027,   1206,   1287,   1371,   1380,   1479,   1722,   2054,\n",
       "         2080,   2174,   2291,   2321,   2396,   2542,   2617,   2710,\n",
       "         3948,   4027,   4973,   5349,   5378,   5989,   6365,   7361,\n",
       "         8636,     16,    223,    904,   1208,   1221,   1258,   1527,\n",
       "         4262,   6016,   6333,  27773,  80463,  92259, 106782,  72641,\n",
       "         3793,   4085,   5816,   6378,  31685,  52722,  54001,  68319,\n",
       "        86882,  87232,  89492,  93510, 110102, 122886, 122892, 122900,\n",
       "       122920, 148626,   1387,  88744,    180,    410,    552,    908,\n",
       "          924,   1022,   1028,   1035,   1042,   1084,   1207,   1215,\n",
       "         1265,   1274,   1275,   1278,   1285,   1288,   1302,   1345,\n",
       "         1377,   1552,   1562,   1573,   1639,   1653,   1676,   1917,\n",
       "         2006,   2115,   2273,   2355,   2502,   2657,   2700,   2701,\n",
       "         2770,   2797,   2916,   2918,   2947,   2953,   3000,   3033,\n",
       "         3052,   3081,   3175,   3275,   3671,   3717,   3911,   3994,\n",
       "         4018,   4025,   4270,   4308,   4643,   5299,   5502,   5956,\n",
       "         5971,   5991,   6373,   6502,   6711,   6863,   6934,   6942,\n",
       "         7090,   7254,   7373,   7451,   7458,   8376,   8464,   8528,\n",
       "         8622,   8784,   8972,  30707,  30793,  33004,  33493,  35836,\n",
       "        37729,  44195,  44665,  45499,  45722,  48385,     70,    608,\n",
       "         1090,   1394,   1729,   1884,   2000,   2395,   2572,   3785,\n",
       "         3988,   4016,   4022,   4239,   4718,   4874,   7147,   8529,\n",
       "        31696,  41569,  45447,  45517,  52973,  53125,  54272,  54503,\n",
       "        55820,  57669,  59615,  61132,  61323,  68237,  69122,  71535,\n",
       "        78499,  79702,  81847,  82459,  88129,  94959,  97913,  97921,\n",
       "        98809, 106100, 106487, 106696, 106920, 108932, 111759, 112183,\n",
       "       112552, 115149, 122882, 122912, 122914, 122916, 122918, 122922,\n",
       "       128360, 139385, 164179, 166528, 168252, 176371, 202439, 204698,\n",
       "       207313,    198,    471,    661,    762,    852,    912,    913,\n",
       "         1092,   1127,   1233,   1249,   1266,   1304,   1320,   1339,\n",
       "         1372,   1407,   1408,   1544,   1597,   1882,   1921,   2002,\n",
       "         2058,   2167,   2302,   2393,   2420,   2541,   2640,   2712,\n",
       "         2723,   2724,   2763,   3082,   3176,   3252,   3253,   3255,\n",
       "         3300,   3421,   3624,   3752,   3755,   3916,   3949,   3967,\n",
       "         4014,   4034,   4223,   4310,   4370,   4447,   4638,   4701,\n",
       "         4720,   5060,   5377,   5481,   5679,   5810,   6537,   1690,\n",
       "         1876,   2406,   2470,   2699,   1262,  63082,   1199,   1203,\n",
       "         1228,   1230,   1234,   1244,   1252,   1673,   1997,   2194,\n",
       "         2599,   2987,   3362,   3481,   3535,   3897,   4148,   4816,\n",
       "         4979,   5464,   5902,   6936,   7293,   8798,  44199,  48780,\n",
       "        51540,  56782,  64614,  64957,  69757,  81591,  97304,  97938,\n",
       "       115569, 168250, 195159,   1953,   2021,   2490,   2871,   2968,\n",
       "          741,   1219,   1250,   2076,   2288,   8950,  44555,   1094,\n",
       "         1641,   2023,   4848,   6870,  34048,  39183,     29,   1172,\n",
       "         3418,   8949,  31658,   2078,  70286,      7,     44,    277,\n",
       "          455,    475,    785,   1967,    441,   3863,    953,   1029,\n",
       "         1032,   1347,   2005,   2018,   2124,   2455,   2985,   3527,\n",
       "         3702,   3703,   4369,   5669,   6807,  36529,  96821,    902,\n",
       "          910,   7143,  55247,   5010,  47099,  56367,   1088,   1259,\n",
       "         1405,   1261,   1263,   1276,   1962,   2160,   3072,   3210,\n",
       "         3499,   4361,   4975,   6218,  30749,  40819,  45720,    342,\n",
       "          914,   1047,   1267,    903,   1954,   8957,  55765,  69481,\n",
       "         2150,   1204,   5266,   2001,   3489,    920,    968,   1343,\n",
       "         2529,   4776,   1060,   2694,   3510,   3617,   1333,   1748,\n",
       "         2427,   6947,   1235,   1271,   1947,   2407,   2915,    969,\n",
       "        93840,  30812,   2278,   4299,   2248,   2144,   8361,   7445])"
      ]
     },
     "execution_count": 50,
     "metadata": {},
     "output_type": "execute_result"
    }
   ],
   "source": [
    "df_ratings_adjusted[\"movieId\"].unique()"
   ]
  },
  {
   "cell_type": "code",
   "execution_count": 49,
   "metadata": {},
   "outputs": [
    {
     "data": {
      "text/html": [
       "<div>\n",
       "<style scoped>\n",
       "    .dataframe tbody tr th:only-of-type {\n",
       "        vertical-align: middle;\n",
       "    }\n",
       "\n",
       "    .dataframe tbody tr th {\n",
       "        vertical-align: top;\n",
       "    }\n",
       "\n",
       "    .dataframe thead th {\n",
       "        text-align: right;\n",
       "    }\n",
       "</style>\n",
       "<table border=\"1\" class=\"dataframe\">\n",
       "  <thead>\n",
       "    <tr style=\"text-align: right;\">\n",
       "      <th></th>\n",
       "      <th>movieId</th>\n",
       "      <th>title</th>\n",
       "    </tr>\n",
       "  </thead>\n",
       "  <tbody>\n",
       "    <tr>\n",
       "      <th>0</th>\n",
       "      <td>1</td>\n",
       "      <td>Toy Story (1995)</td>\n",
       "    </tr>\n",
       "    <tr>\n",
       "      <th>1</th>\n",
       "      <td>2</td>\n",
       "      <td>Jumanji (1995)</td>\n",
       "    </tr>\n",
       "    <tr>\n",
       "      <th>2</th>\n",
       "      <td>3</td>\n",
       "      <td>Grumpier Old Men (1995)</td>\n",
       "    </tr>\n",
       "    <tr>\n",
       "      <th>4</th>\n",
       "      <td>5</td>\n",
       "      <td>Father of the Bride Part II (1995)</td>\n",
       "    </tr>\n",
       "    <tr>\n",
       "      <th>5</th>\n",
       "      <td>6</td>\n",
       "      <td>Heat (1995)</td>\n",
       "    </tr>\n",
       "    <tr>\n",
       "      <th>...</th>\n",
       "      <td>...</td>\n",
       "      <td>...</td>\n",
       "    </tr>\n",
       "    <tr>\n",
       "      <th>54254</th>\n",
       "      <td>187593</td>\n",
       "      <td>Deadpool 2 (2018)</td>\n",
       "    </tr>\n",
       "    <tr>\n",
       "      <th>57778</th>\n",
       "      <td>195159</td>\n",
       "      <td>Spider-Man: Into the Spider-Verse (2018)</td>\n",
       "    </tr>\n",
       "    <tr>\n",
       "      <th>61176</th>\n",
       "      <td>202439</td>\n",
       "      <td>Parasite (2019)</td>\n",
       "    </tr>\n",
       "    <tr>\n",
       "      <th>62208</th>\n",
       "      <td>204698</td>\n",
       "      <td>Joker (2019)</td>\n",
       "    </tr>\n",
       "    <tr>\n",
       "      <th>63316</th>\n",
       "      <td>207313</td>\n",
       "      <td>Knives Out (2019)</td>\n",
       "    </tr>\n",
       "  </tbody>\n",
       "</table>\n",
       "<p>840 rows × 2 columns</p>\n",
       "</div>"
      ],
      "text/plain": [
       "       movieId                                     title\n",
       "0            1                          Toy Story (1995)\n",
       "1            2                            Jumanji (1995)\n",
       "2            3                   Grumpier Old Men (1995)\n",
       "4            5        Father of the Bride Part II (1995)\n",
       "5            6                               Heat (1995)\n",
       "...        ...                                       ...\n",
       "54254   187593                         Deadpool 2 (2018)\n",
       "57778   195159  Spider-Man: Into the Spider-Verse (2018)\n",
       "61176   202439                           Parasite (2019)\n",
       "62208   204698                              Joker (2019)\n",
       "63316   207313                         Knives Out (2019)\n",
       "\n",
       "[840 rows x 2 columns]"
      ]
     },
     "execution_count": 49,
     "metadata": {},
     "output_type": "execute_result"
    }
   ],
   "source": [
    "# https://saturncloud.io/blog/how-to-select-rows-from-a-dataframe-based-on-list-values-in-a-column-in-pandas/\n",
    "\n",
    "mask = df_movies[\"movieId\"].isin(df_ratings_adjusted[\"movieId\"].unique())\n",
    "\n",
    "df_movies_adjusted = df_movies[mask]\n",
    "df_movies_adjusted"
   ]
  },
  {
   "cell_type": "code",
   "execution_count": null,
   "metadata": {},
   "outputs": [],
   "source": []
  }
 ],
 "metadata": {
  "kernelspec": {
   "display_name": "venv",
   "language": "python",
   "name": "python3"
  },
  "language_info": {
   "codemirror_mode": {
    "name": "ipython",
    "version": 3
   },
   "file_extension": ".py",
   "mimetype": "text/x-python",
   "name": "python",
   "nbconvert_exporter": "python",
   "pygments_lexer": "ipython3",
   "version": "3.11.7"
  }
 },
 "nbformat": 4,
 "nbformat_minor": 2
}
